{
  "nbformat": 4,
  "nbformat_minor": 0,
  "metadata": {
    "colab": {
      "name": "h_a_Tabakaev.ipynb",
      "provenance": []
    },
    "kernelspec": {
      "name": "python3",
      "display_name": "Python 3"
    }
  },
  "cells": [
    {
      "cell_type": "code",
      "metadata": {
        "id": "BHzgxTY6uyOq",
        "colab_type": "code",
        "colab": {}
      },
      "source": [
        "import pandas as pd\n",
        "import numpy as np\n",
        "import matplotlib.pyplot as plt\n",
        "\n",
        "df = pd.read_csv('forestfires.csv')\n",
        "df = df[df['area'] != 0]"
      ],
      "execution_count": 251,
      "outputs": []
    },
    {
      "cell_type": "code",
      "metadata": {
        "id": "X8hYYyYF4OBP",
        "colab_type": "code",
        "colab": {
          "base_uri": "https://localhost:8080/",
          "height": 195
        },
        "outputId": "6337436a-934d-4067-e721-85b519b86fbd"
      },
      "source": [
        "df.head()"
      ],
      "execution_count": 252,
      "outputs": [
        {
          "output_type": "execute_result",
          "data": {
            "text/html": [
              "<div>\n",
              "<style scoped>\n",
              "    .dataframe tbody tr th:only-of-type {\n",
              "        vertical-align: middle;\n",
              "    }\n",
              "\n",
              "    .dataframe tbody tr th {\n",
              "        vertical-align: top;\n",
              "    }\n",
              "\n",
              "    .dataframe thead th {\n",
              "        text-align: right;\n",
              "    }\n",
              "</style>\n",
              "<table border=\"1\" class=\"dataframe\">\n",
              "  <thead>\n",
              "    <tr style=\"text-align: right;\">\n",
              "      <th></th>\n",
              "      <th>X</th>\n",
              "      <th>Y</th>\n",
              "      <th>month</th>\n",
              "      <th>day</th>\n",
              "      <th>FFMC</th>\n",
              "      <th>DMC</th>\n",
              "      <th>DC</th>\n",
              "      <th>ISI</th>\n",
              "      <th>temp</th>\n",
              "      <th>RH</th>\n",
              "      <th>wind</th>\n",
              "      <th>rain</th>\n",
              "      <th>area</th>\n",
              "    </tr>\n",
              "  </thead>\n",
              "  <tbody>\n",
              "    <tr>\n",
              "      <th>138</th>\n",
              "      <td>9</td>\n",
              "      <td>9</td>\n",
              "      <td>jul</td>\n",
              "      <td>tue</td>\n",
              "      <td>85.8</td>\n",
              "      <td>48.3</td>\n",
              "      <td>313.4</td>\n",
              "      <td>3.9</td>\n",
              "      <td>18.0</td>\n",
              "      <td>42</td>\n",
              "      <td>2.7</td>\n",
              "      <td>0.0</td>\n",
              "      <td>0.36</td>\n",
              "    </tr>\n",
              "    <tr>\n",
              "      <th>139</th>\n",
              "      <td>1</td>\n",
              "      <td>4</td>\n",
              "      <td>sep</td>\n",
              "      <td>tue</td>\n",
              "      <td>91.0</td>\n",
              "      <td>129.5</td>\n",
              "      <td>692.6</td>\n",
              "      <td>7.0</td>\n",
              "      <td>21.7</td>\n",
              "      <td>38</td>\n",
              "      <td>2.2</td>\n",
              "      <td>0.0</td>\n",
              "      <td>0.43</td>\n",
              "    </tr>\n",
              "    <tr>\n",
              "      <th>140</th>\n",
              "      <td>2</td>\n",
              "      <td>5</td>\n",
              "      <td>sep</td>\n",
              "      <td>mon</td>\n",
              "      <td>90.9</td>\n",
              "      <td>126.5</td>\n",
              "      <td>686.5</td>\n",
              "      <td>7.0</td>\n",
              "      <td>21.9</td>\n",
              "      <td>39</td>\n",
              "      <td>1.8</td>\n",
              "      <td>0.0</td>\n",
              "      <td>0.47</td>\n",
              "    </tr>\n",
              "    <tr>\n",
              "      <th>141</th>\n",
              "      <td>1</td>\n",
              "      <td>2</td>\n",
              "      <td>aug</td>\n",
              "      <td>wed</td>\n",
              "      <td>95.5</td>\n",
              "      <td>99.9</td>\n",
              "      <td>513.3</td>\n",
              "      <td>13.2</td>\n",
              "      <td>23.3</td>\n",
              "      <td>31</td>\n",
              "      <td>4.5</td>\n",
              "      <td>0.0</td>\n",
              "      <td>0.55</td>\n",
              "    </tr>\n",
              "    <tr>\n",
              "      <th>142</th>\n",
              "      <td>8</td>\n",
              "      <td>6</td>\n",
              "      <td>aug</td>\n",
              "      <td>fri</td>\n",
              "      <td>90.1</td>\n",
              "      <td>108.0</td>\n",
              "      <td>529.8</td>\n",
              "      <td>12.5</td>\n",
              "      <td>21.2</td>\n",
              "      <td>51</td>\n",
              "      <td>8.9</td>\n",
              "      <td>0.0</td>\n",
              "      <td>0.61</td>\n",
              "    </tr>\n",
              "  </tbody>\n",
              "</table>\n",
              "</div>"
            ],
            "text/plain": [
              "     X  Y month  day  FFMC    DMC     DC   ISI  temp  RH  wind  rain  area\n",
              "138  9  9   jul  tue  85.8   48.3  313.4   3.9  18.0  42   2.7   0.0  0.36\n",
              "139  1  4   sep  tue  91.0  129.5  692.6   7.0  21.7  38   2.2   0.0  0.43\n",
              "140  2  5   sep  mon  90.9  126.5  686.5   7.0  21.9  39   1.8   0.0  0.47\n",
              "141  1  2   aug  wed  95.5   99.9  513.3  13.2  23.3  31   4.5   0.0  0.55\n",
              "142  8  6   aug  fri  90.1  108.0  529.8  12.5  21.2  51   8.9   0.0  0.61"
            ]
          },
          "metadata": {
            "tags": []
          },
          "execution_count": 252
        }
      ]
    },
    {
      "cell_type": "code",
      "metadata": {
        "id": "wpqsGjKI2ilb",
        "colab_type": "code",
        "colab": {
          "base_uri": "https://localhost:8080/",
          "height": 373
        },
        "outputId": "21d3937c-f773-41e9-e9ac-d7de760223ca"
      },
      "source": [
        "# сделаем замечание, что основные лесные пожары по разрушимости падают на июль,\n",
        "# август, сентябрь\n",
        "df[df['area'] > 100]"
      ],
      "execution_count": 253,
      "outputs": [
        {
          "output_type": "execute_result",
          "data": {
            "text/html": [
              "<div>\n",
              "<style scoped>\n",
              "    .dataframe tbody tr th:only-of-type {\n",
              "        vertical-align: middle;\n",
              "    }\n",
              "\n",
              "    .dataframe tbody tr th {\n",
              "        vertical-align: top;\n",
              "    }\n",
              "\n",
              "    .dataframe thead th {\n",
              "        text-align: right;\n",
              "    }\n",
              "</style>\n",
              "<table border=\"1\" class=\"dataframe\">\n",
              "  <thead>\n",
              "    <tr style=\"text-align: right;\">\n",
              "      <th></th>\n",
              "      <th>X</th>\n",
              "      <th>Y</th>\n",
              "      <th>month</th>\n",
              "      <th>day</th>\n",
              "      <th>FFMC</th>\n",
              "      <th>DMC</th>\n",
              "      <th>DC</th>\n",
              "      <th>ISI</th>\n",
              "      <th>temp</th>\n",
              "      <th>RH</th>\n",
              "      <th>wind</th>\n",
              "      <th>rain</th>\n",
              "      <th>area</th>\n",
              "    </tr>\n",
              "  </thead>\n",
              "  <tbody>\n",
              "    <tr>\n",
              "      <th>232</th>\n",
              "      <td>6</td>\n",
              "      <td>4</td>\n",
              "      <td>sep</td>\n",
              "      <td>tue</td>\n",
              "      <td>91.0</td>\n",
              "      <td>129.5</td>\n",
              "      <td>692.6</td>\n",
              "      <td>7.0</td>\n",
              "      <td>18.7</td>\n",
              "      <td>43</td>\n",
              "      <td>2.7</td>\n",
              "      <td>0.0</td>\n",
              "      <td>103.39</td>\n",
              "    </tr>\n",
              "    <tr>\n",
              "      <th>233</th>\n",
              "      <td>9</td>\n",
              "      <td>4</td>\n",
              "      <td>sep</td>\n",
              "      <td>tue</td>\n",
              "      <td>84.4</td>\n",
              "      <td>73.4</td>\n",
              "      <td>671.9</td>\n",
              "      <td>3.2</td>\n",
              "      <td>24.3</td>\n",
              "      <td>36</td>\n",
              "      <td>3.1</td>\n",
              "      <td>0.0</td>\n",
              "      <td>105.66</td>\n",
              "    </tr>\n",
              "    <tr>\n",
              "      <th>234</th>\n",
              "      <td>4</td>\n",
              "      <td>5</td>\n",
              "      <td>sep</td>\n",
              "      <td>sat</td>\n",
              "      <td>92.5</td>\n",
              "      <td>121.1</td>\n",
              "      <td>674.4</td>\n",
              "      <td>8.6</td>\n",
              "      <td>17.7</td>\n",
              "      <td>25</td>\n",
              "      <td>3.1</td>\n",
              "      <td>0.0</td>\n",
              "      <td>154.88</td>\n",
              "    </tr>\n",
              "    <tr>\n",
              "      <th>235</th>\n",
              "      <td>8</td>\n",
              "      <td>6</td>\n",
              "      <td>aug</td>\n",
              "      <td>sun</td>\n",
              "      <td>91.4</td>\n",
              "      <td>142.4</td>\n",
              "      <td>601.4</td>\n",
              "      <td>10.6</td>\n",
              "      <td>19.6</td>\n",
              "      <td>41</td>\n",
              "      <td>5.8</td>\n",
              "      <td>0.0</td>\n",
              "      <td>196.48</td>\n",
              "    </tr>\n",
              "    <tr>\n",
              "      <th>236</th>\n",
              "      <td>2</td>\n",
              "      <td>2</td>\n",
              "      <td>sep</td>\n",
              "      <td>sat</td>\n",
              "      <td>92.5</td>\n",
              "      <td>121.1</td>\n",
              "      <td>674.4</td>\n",
              "      <td>8.6</td>\n",
              "      <td>18.2</td>\n",
              "      <td>46</td>\n",
              "      <td>1.8</td>\n",
              "      <td>0.0</td>\n",
              "      <td>200.94</td>\n",
              "    </tr>\n",
              "    <tr>\n",
              "      <th>237</th>\n",
              "      <td>1</td>\n",
              "      <td>2</td>\n",
              "      <td>sep</td>\n",
              "      <td>tue</td>\n",
              "      <td>91.0</td>\n",
              "      <td>129.5</td>\n",
              "      <td>692.6</td>\n",
              "      <td>7.0</td>\n",
              "      <td>18.8</td>\n",
              "      <td>40</td>\n",
              "      <td>2.2</td>\n",
              "      <td>0.0</td>\n",
              "      <td>212.88</td>\n",
              "    </tr>\n",
              "    <tr>\n",
              "      <th>238</th>\n",
              "      <td>6</td>\n",
              "      <td>5</td>\n",
              "      <td>sep</td>\n",
              "      <td>sat</td>\n",
              "      <td>92.5</td>\n",
              "      <td>121.1</td>\n",
              "      <td>674.4</td>\n",
              "      <td>8.6</td>\n",
              "      <td>25.1</td>\n",
              "      <td>27</td>\n",
              "      <td>4.0</td>\n",
              "      <td>0.0</td>\n",
              "      <td>1090.84</td>\n",
              "    </tr>\n",
              "    <tr>\n",
              "      <th>377</th>\n",
              "      <td>2</td>\n",
              "      <td>2</td>\n",
              "      <td>aug</td>\n",
              "      <td>sat</td>\n",
              "      <td>93.7</td>\n",
              "      <td>231.1</td>\n",
              "      <td>715.1</td>\n",
              "      <td>8.4</td>\n",
              "      <td>21.9</td>\n",
              "      <td>42</td>\n",
              "      <td>2.2</td>\n",
              "      <td>0.0</td>\n",
              "      <td>174.63</td>\n",
              "    </tr>\n",
              "    <tr>\n",
              "      <th>415</th>\n",
              "      <td>8</td>\n",
              "      <td>6</td>\n",
              "      <td>aug</td>\n",
              "      <td>thu</td>\n",
              "      <td>94.8</td>\n",
              "      <td>222.4</td>\n",
              "      <td>698.6</td>\n",
              "      <td>13.9</td>\n",
              "      <td>27.5</td>\n",
              "      <td>27</td>\n",
              "      <td>4.9</td>\n",
              "      <td>0.0</td>\n",
              "      <td>746.28</td>\n",
              "    </tr>\n",
              "    <tr>\n",
              "      <th>420</th>\n",
              "      <td>8</td>\n",
              "      <td>8</td>\n",
              "      <td>aug</td>\n",
              "      <td>wed</td>\n",
              "      <td>91.7</td>\n",
              "      <td>191.4</td>\n",
              "      <td>635.9</td>\n",
              "      <td>7.8</td>\n",
              "      <td>26.2</td>\n",
              "      <td>36</td>\n",
              "      <td>4.5</td>\n",
              "      <td>0.0</td>\n",
              "      <td>185.76</td>\n",
              "    </tr>\n",
              "    <tr>\n",
              "      <th>479</th>\n",
              "      <td>7</td>\n",
              "      <td>4</td>\n",
              "      <td>jul</td>\n",
              "      <td>mon</td>\n",
              "      <td>89.2</td>\n",
              "      <td>103.9</td>\n",
              "      <td>431.6</td>\n",
              "      <td>6.4</td>\n",
              "      <td>22.6</td>\n",
              "      <td>57</td>\n",
              "      <td>4.9</td>\n",
              "      <td>0.0</td>\n",
              "      <td>278.53</td>\n",
              "    </tr>\n",
              "  </tbody>\n",
              "</table>\n",
              "</div>"
            ],
            "text/plain": [
              "     X  Y month  day  FFMC    DMC     DC   ISI  temp  RH  wind  rain     area\n",
              "232  6  4   sep  tue  91.0  129.5  692.6   7.0  18.7  43   2.7   0.0   103.39\n",
              "233  9  4   sep  tue  84.4   73.4  671.9   3.2  24.3  36   3.1   0.0   105.66\n",
              "234  4  5   sep  sat  92.5  121.1  674.4   8.6  17.7  25   3.1   0.0   154.88\n",
              "235  8  6   aug  sun  91.4  142.4  601.4  10.6  19.6  41   5.8   0.0   196.48\n",
              "236  2  2   sep  sat  92.5  121.1  674.4   8.6  18.2  46   1.8   0.0   200.94\n",
              "237  1  2   sep  tue  91.0  129.5  692.6   7.0  18.8  40   2.2   0.0   212.88\n",
              "238  6  5   sep  sat  92.5  121.1  674.4   8.6  25.1  27   4.0   0.0  1090.84\n",
              "377  2  2   aug  sat  93.7  231.1  715.1   8.4  21.9  42   2.2   0.0   174.63\n",
              "415  8  6   aug  thu  94.8  222.4  698.6  13.9  27.5  27   4.9   0.0   746.28\n",
              "420  8  8   aug  wed  91.7  191.4  635.9   7.8  26.2  36   4.5   0.0   185.76\n",
              "479  7  4   jul  mon  89.2  103.9  431.6   6.4  22.6  57   4.9   0.0   278.53"
            ]
          },
          "metadata": {
            "tags": []
          },
          "execution_count": 253
        }
      ]
    },
    {
      "cell_type": "code",
      "metadata": {
        "id": "tKdpdwVYSXxC",
        "colab_type": "code",
        "colab": {
          "base_uri": "https://localhost:8080/",
          "height": 474
        },
        "outputId": "a463363b-721f-4f76-e9c2-c6fd8432faa0"
      },
      "source": [
        "# изобразим карту, которая показывает через размер кружочка среднюю\n",
        "# площадь повреждений от пожаров в зависимости от координаты (x, y)\n",
        "dict_for_xy = {}\n",
        "for xvalue in np.unique(df['X'].values):\n",
        "  for yvalue in np.unique(df['Y'].values):\n",
        "    dfpart = df[(df['X'] == xvalue) & (df['Y'] == yvalue)]\n",
        "    if dfpart.shape[0] >= 1:\n",
        "      dict_for_xy[(xvalue, yvalue)] = np.mean(dfpart['area'].values)\n",
        "\n",
        "x, y = [a[0] for a in list(dict_for_xy.keys())], [b[1] for b in list(dict_for_xy.keys())]\n",
        "z = list(dict_for_xy.values())\n",
        "\n",
        "plt.scatter(x, y, s = [3*a for a in z])\n",
        "plt.title('Карта средних значений таргета от (x,y)')\n",
        "plt.xlabel('X')\n",
        "plt.ylabel('Y')\n",
        "\n",
        "# наблюдаем нелинейную зависимость среднего от координаты, поэтому сделаем следующее:\n",
        "# создадим бинарную переменную по следующей метке: \n",
        "# пораженная зона меньше 10 (большинство объектов) или пораженная зона больше 10\n",
        "# после (X, Y) -> (classes) проведём one-hot-encoding\n",
        "\n",
        "classes = [0, 1]\n",
        "to_append = []\n",
        "for j in range(df.shape[0]):\n",
        "  coordinates = tuple(df[['X', 'Y']].values[j])\n",
        "  num = dict_for_xy[coordinates]\n",
        "  if num < 10:\n",
        "    to_append.append(classes[0])\n",
        "  else:\n",
        "    to_append.append(classes[1])\n",
        "df = df.drop('X', axis = 1)\n",
        "df = df.drop('Y', axis = 1)\n",
        "df['classes'] = to_append\n",
        "\n",
        "df.head()"
      ],
      "execution_count": 254,
      "outputs": [
        {
          "output_type": "execute_result",
          "data": {
            "text/html": [
              "<div>\n",
              "<style scoped>\n",
              "    .dataframe tbody tr th:only-of-type {\n",
              "        vertical-align: middle;\n",
              "    }\n",
              "\n",
              "    .dataframe tbody tr th {\n",
              "        vertical-align: top;\n",
              "    }\n",
              "\n",
              "    .dataframe thead th {\n",
              "        text-align: right;\n",
              "    }\n",
              "</style>\n",
              "<table border=\"1\" class=\"dataframe\">\n",
              "  <thead>\n",
              "    <tr style=\"text-align: right;\">\n",
              "      <th></th>\n",
              "      <th>month</th>\n",
              "      <th>day</th>\n",
              "      <th>FFMC</th>\n",
              "      <th>DMC</th>\n",
              "      <th>DC</th>\n",
              "      <th>ISI</th>\n",
              "      <th>temp</th>\n",
              "      <th>RH</th>\n",
              "      <th>wind</th>\n",
              "      <th>rain</th>\n",
              "      <th>area</th>\n",
              "      <th>classes</th>\n",
              "    </tr>\n",
              "  </thead>\n",
              "  <tbody>\n",
              "    <tr>\n",
              "      <th>138</th>\n",
              "      <td>jul</td>\n",
              "      <td>tue</td>\n",
              "      <td>85.8</td>\n",
              "      <td>48.3</td>\n",
              "      <td>313.4</td>\n",
              "      <td>3.9</td>\n",
              "      <td>18.0</td>\n",
              "      <td>42</td>\n",
              "      <td>2.7</td>\n",
              "      <td>0.0</td>\n",
              "      <td>0.36</td>\n",
              "      <td>0</td>\n",
              "    </tr>\n",
              "    <tr>\n",
              "      <th>139</th>\n",
              "      <td>sep</td>\n",
              "      <td>tue</td>\n",
              "      <td>91.0</td>\n",
              "      <td>129.5</td>\n",
              "      <td>692.6</td>\n",
              "      <td>7.0</td>\n",
              "      <td>21.7</td>\n",
              "      <td>38</td>\n",
              "      <td>2.2</td>\n",
              "      <td>0.0</td>\n",
              "      <td>0.43</td>\n",
              "      <td>1</td>\n",
              "    </tr>\n",
              "    <tr>\n",
              "      <th>140</th>\n",
              "      <td>sep</td>\n",
              "      <td>mon</td>\n",
              "      <td>90.9</td>\n",
              "      <td>126.5</td>\n",
              "      <td>686.5</td>\n",
              "      <td>7.0</td>\n",
              "      <td>21.9</td>\n",
              "      <td>39</td>\n",
              "      <td>1.8</td>\n",
              "      <td>0.0</td>\n",
              "      <td>0.47</td>\n",
              "      <td>0</td>\n",
              "    </tr>\n",
              "    <tr>\n",
              "      <th>141</th>\n",
              "      <td>aug</td>\n",
              "      <td>wed</td>\n",
              "      <td>95.5</td>\n",
              "      <td>99.9</td>\n",
              "      <td>513.3</td>\n",
              "      <td>13.2</td>\n",
              "      <td>23.3</td>\n",
              "      <td>31</td>\n",
              "      <td>4.5</td>\n",
              "      <td>0.0</td>\n",
              "      <td>0.55</td>\n",
              "      <td>1</td>\n",
              "    </tr>\n",
              "    <tr>\n",
              "      <th>142</th>\n",
              "      <td>aug</td>\n",
              "      <td>fri</td>\n",
              "      <td>90.1</td>\n",
              "      <td>108.0</td>\n",
              "      <td>529.8</td>\n",
              "      <td>12.5</td>\n",
              "      <td>21.2</td>\n",
              "      <td>51</td>\n",
              "      <td>8.9</td>\n",
              "      <td>0.0</td>\n",
              "      <td>0.61</td>\n",
              "      <td>1</td>\n",
              "    </tr>\n",
              "  </tbody>\n",
              "</table>\n",
              "</div>"
            ],
            "text/plain": [
              "    month  day  FFMC    DMC     DC   ISI  temp  RH  wind  rain  area  classes\n",
              "138   jul  tue  85.8   48.3  313.4   3.9  18.0  42   2.7   0.0  0.36        0\n",
              "139   sep  tue  91.0  129.5  692.6   7.0  21.7  38   2.2   0.0  0.43        1\n",
              "140   sep  mon  90.9  126.5  686.5   7.0  21.9  39   1.8   0.0  0.47        0\n",
              "141   aug  wed  95.5   99.9  513.3  13.2  23.3  31   4.5   0.0  0.55        1\n",
              "142   aug  fri  90.1  108.0  529.8  12.5  21.2  51   8.9   0.0  0.61        1"
            ]
          },
          "metadata": {
            "tags": []
          },
          "execution_count": 254
        },
        {
          "output_type": "display_data",
          "data": {
            "image/png": "[encoded data removed]",
            "text/plain": [
              "<Figure size 432x288 with 1 Axes>"
            ]
          },
          "metadata": {
            "tags": [],
            "needs_background": "light"
          }
        }
      ]
    },
    {
      "cell_type": "code",
      "metadata": {
        "id": "rY9X8Ny4vQ6z",
        "colab_type": "code",
        "colab": {
          "base_uri": "https://localhost:8080/",
          "height": 195
        },
        "outputId": "14a65d52-f46a-45c6-cdb9-7ade9242c4cf"
      },
      "source": [
        "# Преобразуем категориальные признаки: по понятным причинам, хотим привести всё \n",
        "# к численному виду.\n",
        "# Создадим дамми - переменные по месяцу (через one-hot) и по дню недели.\n",
        "# лесные пожары зависят от дня недели в том смысле, выходной это или будний день\n",
        "# так как в первом случае большую роль в пожарах играет человеческий фактор\n",
        "# 1 - sunday/saturday, 0 - else\n",
        "# аналогично бинарную переменную \"является ли месяц одни из списка: июль, август, сентябрь\"\n",
        "months = ['aug', 'sep', 'jul']\n",
        "binary2 = [int(month in months) for month in df['month']]\n",
        "holiday = ['sun', 'sat']\n",
        "binary1 = [int(day in holiday) for day in df['day']]\n",
        "# Дропнем месяц и дни недели\n",
        "df = df.drop('month',axis = 1)\n",
        "df = df.drop('day',axis = 1)\n",
        "# Присоединим созданные выше one-hot матрицы\n",
        "df['is_holiday'] = binary1\n",
        "df['is_hottest_months'] = binary2\n",
        "df.head()"
      ],
      "execution_count": 255,
      "outputs": [
        {
          "output_type": "execute_result",
          "data": {
            "text/html": [
              "<div>\n",
              "<style scoped>\n",
              "    .dataframe tbody tr th:only-of-type {\n",
              "        vertical-align: middle;\n",
              "    }\n",
              "\n",
              "    .dataframe tbody tr th {\n",
              "        vertical-align: top;\n",
              "    }\n",
              "\n",
              "    .dataframe thead th {\n",
              "        text-align: right;\n",
              "    }\n",
              "</style>\n",
              "<table border=\"1\" class=\"dataframe\">\n",
              "  <thead>\n",
              "    <tr style=\"text-align: right;\">\n",
              "      <th></th>\n",
              "      <th>FFMC</th>\n",
              "      <th>DMC</th>\n",
              "      <th>DC</th>\n",
              "      <th>ISI</th>\n",
              "      <th>temp</th>\n",
              "      <th>RH</th>\n",
              "      <th>wind</th>\n",
              "      <th>rain</th>\n",
              "      <th>area</th>\n",
              "      <th>classes</th>\n",
              "      <th>is_holiday</th>\n",
              "      <th>is_hottest_months</th>\n",
              "    </tr>\n",
              "  </thead>\n",
              "  <tbody>\n",
              "    <tr>\n",
              "      <th>138</th>\n",
              "      <td>85.8</td>\n",
              "      <td>48.3</td>\n",
              "      <td>313.4</td>\n",
              "      <td>3.9</td>\n",
              "      <td>18.0</td>\n",
              "      <td>42</td>\n",
              "      <td>2.7</td>\n",
              "      <td>0.0</td>\n",
              "      <td>0.36</td>\n",
              "      <td>0</td>\n",
              "      <td>0</td>\n",
              "      <td>1</td>\n",
              "    </tr>\n",
              "    <tr>\n",
              "      <th>139</th>\n",
              "      <td>91.0</td>\n",
              "      <td>129.5</td>\n",
              "      <td>692.6</td>\n",
              "      <td>7.0</td>\n",
              "      <td>21.7</td>\n",
              "      <td>38</td>\n",
              "      <td>2.2</td>\n",
              "      <td>0.0</td>\n",
              "      <td>0.43</td>\n",
              "      <td>1</td>\n",
              "      <td>0</td>\n",
              "      <td>1</td>\n",
              "    </tr>\n",
              "    <tr>\n",
              "      <th>140</th>\n",
              "      <td>90.9</td>\n",
              "      <td>126.5</td>\n",
              "      <td>686.5</td>\n",
              "      <td>7.0</td>\n",
              "      <td>21.9</td>\n",
              "      <td>39</td>\n",
              "      <td>1.8</td>\n",
              "      <td>0.0</td>\n",
              "      <td>0.47</td>\n",
              "      <td>0</td>\n",
              "      <td>0</td>\n",
              "      <td>1</td>\n",
              "    </tr>\n",
              "    <tr>\n",
              "      <th>141</th>\n",
              "      <td>95.5</td>\n",
              "      <td>99.9</td>\n",
              "      <td>513.3</td>\n",
              "      <td>13.2</td>\n",
              "      <td>23.3</td>\n",
              "      <td>31</td>\n",
              "      <td>4.5</td>\n",
              "      <td>0.0</td>\n",
              "      <td>0.55</td>\n",
              "      <td>1</td>\n",
              "      <td>0</td>\n",
              "      <td>1</td>\n",
              "    </tr>\n",
              "    <tr>\n",
              "      <th>142</th>\n",
              "      <td>90.1</td>\n",
              "      <td>108.0</td>\n",
              "      <td>529.8</td>\n",
              "      <td>12.5</td>\n",
              "      <td>21.2</td>\n",
              "      <td>51</td>\n",
              "      <td>8.9</td>\n",
              "      <td>0.0</td>\n",
              "      <td>0.61</td>\n",
              "      <td>1</td>\n",
              "      <td>0</td>\n",
              "      <td>1</td>\n",
              "    </tr>\n",
              "  </tbody>\n",
              "</table>\n",
              "</div>"
            ],
            "text/plain": [
              "     FFMC    DMC     DC   ISI  ...  area  classes  is_holiday  is_hottest_months\n",
              "138  85.8   48.3  313.4   3.9  ...  0.36        0           0                  1\n",
              "139  91.0  129.5  692.6   7.0  ...  0.43        1           0                  1\n",
              "140  90.9  126.5  686.5   7.0  ...  0.47        0           0                  1\n",
              "141  95.5   99.9  513.3  13.2  ...  0.55        1           0                  1\n",
              "142  90.1  108.0  529.8  12.5  ...  0.61        1           0                  1\n",
              "\n",
              "[5 rows x 12 columns]"
            ]
          },
          "metadata": {
            "tags": []
          },
          "execution_count": 255
        }
      ]
    },
    {
      "cell_type": "code",
      "metadata": {
        "id": "Tpqv_eim81VE",
        "colab_type": "code",
        "colab": {}
      },
      "source": [
        "# FFMC - что-то типа про влажность в почве\n",
        "# DMC - что-то про влажность в дереве\n",
        "# DC - почти дублирует DMC\n",
        "# ISI - комбинация FFMC и wind-фактора, иллюстрирует скорость распространения "
      ],
      "execution_count": 256,
      "outputs": []
    },
    {
      "cell_type": "code",
      "metadata": {
        "id": "7flkusPs-OBG",
        "colab_type": "code",
        "colab": {
          "base_uri": "https://localhost:8080/",
          "height": 166
        },
        "outputId": "fb96f566-4e09-46b1-d260-d1d491a90cd0"
      },
      "source": [
        "df[['FFMC', 'DMC', 'DC', 'ISI']].corr()"
      ],
      "execution_count": 257,
      "outputs": [
        {
          "output_type": "execute_result",
          "data": {
            "text/html": [
              "<div>\n",
              "<style scoped>\n",
              "    .dataframe tbody tr th:only-of-type {\n",
              "        vertical-align: middle;\n",
              "    }\n",
              "\n",
              "    .dataframe tbody tr th {\n",
              "        vertical-align: top;\n",
              "    }\n",
              "\n",
              "    .dataframe thead th {\n",
              "        text-align: right;\n",
              "    }\n",
              "</style>\n",
              "<table border=\"1\" class=\"dataframe\">\n",
              "  <thead>\n",
              "    <tr style=\"text-align: right;\">\n",
              "      <th></th>\n",
              "      <th>FFMC</th>\n",
              "      <th>DMC</th>\n",
              "      <th>DC</th>\n",
              "      <th>ISI</th>\n",
              "    </tr>\n",
              "  </thead>\n",
              "  <tbody>\n",
              "    <tr>\n",
              "      <th>FFMC</th>\n",
              "      <td>1.000000</td>\n",
              "      <td>0.480250</td>\n",
              "      <td>0.407638</td>\n",
              "      <td>0.704170</td>\n",
              "    </tr>\n",
              "    <tr>\n",
              "      <th>DMC</th>\n",
              "      <td>0.480250</td>\n",
              "      <td>1.000000</td>\n",
              "      <td>0.668926</td>\n",
              "      <td>0.329656</td>\n",
              "    </tr>\n",
              "    <tr>\n",
              "      <th>DC</th>\n",
              "      <td>0.407638</td>\n",
              "      <td>0.668926</td>\n",
              "      <td>1.000000</td>\n",
              "      <td>0.256826</td>\n",
              "    </tr>\n",
              "    <tr>\n",
              "      <th>ISI</th>\n",
              "      <td>0.704170</td>\n",
              "      <td>0.329656</td>\n",
              "      <td>0.256826</td>\n",
              "      <td>1.000000</td>\n",
              "    </tr>\n",
              "  </tbody>\n",
              "</table>\n",
              "</div>"
            ],
            "text/plain": [
              "          FFMC       DMC        DC       ISI\n",
              "FFMC  1.000000  0.480250  0.407638  0.704170\n",
              "DMC   0.480250  1.000000  0.668926  0.329656\n",
              "DC    0.407638  0.668926  1.000000  0.256826\n",
              "ISI   0.704170  0.329656  0.256826  1.000000"
            ]
          },
          "metadata": {
            "tags": []
          },
          "execution_count": 257
        }
      ]
    },
    {
      "cell_type": "code",
      "metadata": {
        "id": "zjPbq07I_XQs",
        "colab_type": "code",
        "colab": {}
      },
      "source": [
        "# видим, что все эти показатели коррелируют. \n",
        "# было бы классно их объединить, как минимум, чтобы было попроще интерпретировать результаты\n",
        "# воспользуемся методом PCA, объединив эти 4 индекса в один абстрактный\n",
        "# назовём его all_indexes\n",
        "# P.S. только изменим ISI, взяв все значения с отрицательным знаком, т.к.\n",
        "# этот индекс, в отличие от других, положительно влияет на размер area\n",
        "from sklearn.decomposition import IncrementalPCA\n",
        "neg_isi = -df['ISI'].values\n",
        "df = df.drop('ISI', axis = 1)\n",
        "df['ISI'] = neg_isi\n",
        "df_to_tr = df[['FFMC', 'DMC', 'DC', 'ISI']]\n",
        "ipca = IncrementalPCA(n_components=1)\n",
        "ipca.fit(df_to_tr)\n",
        "new_column = ipca.transform(df_to_tr)\n"
      ],
      "execution_count": 258,
      "outputs": []
    },
    {
      "cell_type": "code",
      "metadata": {
        "id": "R_ZNIIyFANKT",
        "colab_type": "code",
        "colab": {
          "base_uri": "https://localhost:8080/",
          "height": 195
        },
        "outputId": "9524f05c-a2f2-4d46-9d52-ca762e9cae20"
      },
      "source": [
        "df = df.drop(['FFMC', 'DMC', 'DC', 'ISI'],axis = 1)\n",
        "df['all_indexes'] = new_column\n",
        "df.head()"
      ],
      "execution_count": 259,
      "outputs": [
        {
          "output_type": "execute_result",
          "data": {
            "text/html": [
              "<div>\n",
              "<style scoped>\n",
              "    .dataframe tbody tr th:only-of-type {\n",
              "        vertical-align: middle;\n",
              "    }\n",
              "\n",
              "    .dataframe tbody tr th {\n",
              "        vertical-align: top;\n",
              "    }\n",
              "\n",
              "    .dataframe thead th {\n",
              "        text-align: right;\n",
              "    }\n",
              "</style>\n",
              "<table border=\"1\" class=\"dataframe\">\n",
              "  <thead>\n",
              "    <tr style=\"text-align: right;\">\n",
              "      <th></th>\n",
              "      <th>temp</th>\n",
              "      <th>RH</th>\n",
              "      <th>wind</th>\n",
              "      <th>rain</th>\n",
              "      <th>area</th>\n",
              "      <th>classes</th>\n",
              "      <th>is_holiday</th>\n",
              "      <th>is_hottest_months</th>\n",
              "      <th>all_indexes</th>\n",
              "    </tr>\n",
              "  </thead>\n",
              "  <tbody>\n",
              "    <tr>\n",
              "      <th>138</th>\n",
              "      <td>18.0</td>\n",
              "      <td>42</td>\n",
              "      <td>2.7</td>\n",
              "      <td>0.0</td>\n",
              "      <td>0.36</td>\n",
              "      <td>0</td>\n",
              "      <td>0</td>\n",
              "      <td>1</td>\n",
              "      <td>-265.320971</td>\n",
              "    </tr>\n",
              "    <tr>\n",
              "      <th>139</th>\n",
              "      <td>21.7</td>\n",
              "      <td>38</td>\n",
              "      <td>2.2</td>\n",
              "      <td>0.0</td>\n",
              "      <td>0.43</td>\n",
              "      <td>1</td>\n",
              "      <td>0</td>\n",
              "      <td>1</td>\n",
              "      <td>122.370404</td>\n",
              "    </tr>\n",
              "    <tr>\n",
              "      <th>140</th>\n",
              "      <td>21.9</td>\n",
              "      <td>39</td>\n",
              "      <td>1.8</td>\n",
              "      <td>0.0</td>\n",
              "      <td>0.47</td>\n",
              "      <td>0</td>\n",
              "      <td>0</td>\n",
              "      <td>1</td>\n",
              "      <td>115.824104</td>\n",
              "    </tr>\n",
              "    <tr>\n",
              "      <th>141</th>\n",
              "      <td>23.3</td>\n",
              "      <td>31</td>\n",
              "      <td>4.5</td>\n",
              "      <td>0.0</td>\n",
              "      <td>0.55</td>\n",
              "      <td>1</td>\n",
              "      <td>0</td>\n",
              "      <td>1</td>\n",
              "      <td>-59.254211</td>\n",
              "    </tr>\n",
              "    <tr>\n",
              "      <th>142</th>\n",
              "      <td>21.2</td>\n",
              "      <td>51</td>\n",
              "      <td>8.9</td>\n",
              "      <td>0.0</td>\n",
              "      <td>0.61</td>\n",
              "      <td>1</td>\n",
              "      <td>0</td>\n",
              "      <td>1</td>\n",
              "      <td>-41.590414</td>\n",
              "    </tr>\n",
              "  </tbody>\n",
              "</table>\n",
              "</div>"
            ],
            "text/plain": [
              "     temp  RH  wind  rain  ...  classes  is_holiday  is_hottest_months  all_indexes\n",
              "138  18.0  42   2.7   0.0  ...        0           0                  1  -265.320971\n",
              "139  21.7  38   2.2   0.0  ...        1           0                  1   122.370404\n",
              "140  21.9  39   1.8   0.0  ...        0           0                  1   115.824104\n",
              "141  23.3  31   4.5   0.0  ...        1           0                  1   -59.254211\n",
              "142  21.2  51   8.9   0.0  ...        1           0                  1   -41.590414\n",
              "\n",
              "[5 rows x 9 columns]"
            ]
          },
          "metadata": {
            "tags": []
          },
          "execution_count": 259
        }
      ]
    },
    {
      "cell_type": "code",
      "metadata": {
        "id": "5DPOW6XkBeDu",
        "colab_type": "code",
        "colab": {}
      },
      "source": [
        "# остальные показатели оставим в норме, так как они хорошие вещественные, (нецелевые)\n",
        "# temp - температура\n",
        "# rh - относительная влажность\n",
        "# wind - скорость ветра\n",
        "# rain - обильность дождя в милиметрах на кв.метр"
      ],
      "execution_count": 260,
      "outputs": []
    },
    {
      "cell_type": "code",
      "metadata": {
        "id": "mAxZ-rj406Kh",
        "colab_type": "code",
        "colab": {
          "base_uri": "https://localhost:8080/",
          "height": 312
        },
        "outputId": "12bf2200-0689-4daf-b6aa-2d7ad8df6475"
      },
      "source": [
        "# изобразим гистограмму целевой переменной. видим, что было бы неплохо прологарифмировать\n",
        "# целевую переменную\n",
        "plt.hist(df['area'])\n",
        "plt.title('Гистограмма целевой переменной')\n",
        "plt.xlabel('Значения')\n",
        "plt.ylabel('Частота появлений')"
      ],
      "execution_count": 261,
      "outputs": [
        {
          "output_type": "execute_result",
          "data": {
            "text/plain": [
              "Text(0, 0.5, 'Частота появлений')"
            ]
          },
          "metadata": {
            "tags": []
          },
          "execution_count": 261
        },
        {
          "output_type": "display_data",
          "data": {
            "image/png": "[encoded data removed]",
            "text/plain": [
              "<Figure size 432x288 with 1 Axes>"
            ]
          },
          "metadata": {
            "tags": [],
            "needs_background": "light"
          }
        }
      ]
    },
    {
      "cell_type": "code",
      "metadata": {
        "id": "tnQFT2p91QTg",
        "colab_type": "code",
        "colab": {
          "base_uri": "https://localhost:8080/",
          "height": 312
        },
        "outputId": "34b5755f-1f18-4528-bfe0-f747e19d1ebe"
      },
      "source": [
        "### да, и вправду было бы неплохо\n",
        "plt.hist(np.log(df['area'].values))\n",
        "plt.title('Гистограмма логарифма целевой переменной')\n",
        "plt.xlabel('Значения')\n",
        "plt.ylabel('Частота появлений')"
      ],
      "execution_count": 262,
      "outputs": [
        {
          "output_type": "execute_result",
          "data": {
            "text/plain": [
              "Text(0, 0.5, 'Частота появлений')"
            ]
          },
          "metadata": {
            "tags": []
          },
          "execution_count": 262
        },
        {
          "output_type": "display_data",
          "data": {
            "image/png": "[encoded data removed]",
            "text/plain": [
              "<Figure size 432x288 with 1 Axes>"
            ]
          },
          "metadata": {
            "tags": [],
            "needs_background": "light"
          }
        }
      ]
    },
    {
      "cell_type": "code",
      "metadata": {
        "id": "W_EsEZigyAey",
        "colab_type": "code",
        "colab": {
          "base_uri": "https://localhost:8080/",
          "height": 195
        },
        "outputId": "40b86685-8356-455b-fe5a-949be2990f3e"
      },
      "source": [
        "to_change = np.log(df['area'].values)\n",
        "df = df.drop('area', axis = 1)\n",
        "df['log_area'] = to_change\n",
        "df.head()"
      ],
      "execution_count": 263,
      "outputs": [
        {
          "output_type": "execute_result",
          "data": {
            "text/html": [
              "<div>\n",
              "<style scoped>\n",
              "    .dataframe tbody tr th:only-of-type {\n",
              "        vertical-align: middle;\n",
              "    }\n",
              "\n",
              "    .dataframe tbody tr th {\n",
              "        vertical-align: top;\n",
              "    }\n",
              "\n",
              "    .dataframe thead th {\n",
              "        text-align: right;\n",
              "    }\n",
              "</style>\n",
              "<table border=\"1\" class=\"dataframe\">\n",
              "  <thead>\n",
              "    <tr style=\"text-align: right;\">\n",
              "      <th></th>\n",
              "      <th>temp</th>\n",
              "      <th>RH</th>\n",
              "      <th>wind</th>\n",
              "      <th>rain</th>\n",
              "      <th>classes</th>\n",
              "      <th>is_holiday</th>\n",
              "      <th>is_hottest_months</th>\n",
              "      <th>all_indexes</th>\n",
              "      <th>log_area</th>\n",
              "    </tr>\n",
              "  </thead>\n",
              "  <tbody>\n",
              "    <tr>\n",
              "      <th>138</th>\n",
              "      <td>18.0</td>\n",
              "      <td>42</td>\n",
              "      <td>2.7</td>\n",
              "      <td>0.0</td>\n",
              "      <td>0</td>\n",
              "      <td>0</td>\n",
              "      <td>1</td>\n",
              "      <td>-265.320971</td>\n",
              "      <td>-1.021651</td>\n",
              "    </tr>\n",
              "    <tr>\n",
              "      <th>139</th>\n",
              "      <td>21.7</td>\n",
              "      <td>38</td>\n",
              "      <td>2.2</td>\n",
              "      <td>0.0</td>\n",
              "      <td>1</td>\n",
              "      <td>0</td>\n",
              "      <td>1</td>\n",
              "      <td>122.370404</td>\n",
              "      <td>-0.843970</td>\n",
              "    </tr>\n",
              "    <tr>\n",
              "      <th>140</th>\n",
              "      <td>21.9</td>\n",
              "      <td>39</td>\n",
              "      <td>1.8</td>\n",
              "      <td>0.0</td>\n",
              "      <td>0</td>\n",
              "      <td>0</td>\n",
              "      <td>1</td>\n",
              "      <td>115.824104</td>\n",
              "      <td>-0.755023</td>\n",
              "    </tr>\n",
              "    <tr>\n",
              "      <th>141</th>\n",
              "      <td>23.3</td>\n",
              "      <td>31</td>\n",
              "      <td>4.5</td>\n",
              "      <td>0.0</td>\n",
              "      <td>1</td>\n",
              "      <td>0</td>\n",
              "      <td>1</td>\n",
              "      <td>-59.254211</td>\n",
              "      <td>-0.597837</td>\n",
              "    </tr>\n",
              "    <tr>\n",
              "      <th>142</th>\n",
              "      <td>21.2</td>\n",
              "      <td>51</td>\n",
              "      <td>8.9</td>\n",
              "      <td>0.0</td>\n",
              "      <td>1</td>\n",
              "      <td>0</td>\n",
              "      <td>1</td>\n",
              "      <td>-41.590414</td>\n",
              "      <td>-0.494296</td>\n",
              "    </tr>\n",
              "  </tbody>\n",
              "</table>\n",
              "</div>"
            ],
            "text/plain": [
              "     temp  RH  wind  rain  ...  is_holiday  is_hottest_months  all_indexes  log_area\n",
              "138  18.0  42   2.7   0.0  ...           0                  1  -265.320971 -1.021651\n",
              "139  21.7  38   2.2   0.0  ...           0                  1   122.370404 -0.843970\n",
              "140  21.9  39   1.8   0.0  ...           0                  1   115.824104 -0.755023\n",
              "141  23.3  31   4.5   0.0  ...           0                  1   -59.254211 -0.597837\n",
              "142  21.2  51   8.9   0.0  ...           0                  1   -41.590414 -0.494296\n",
              "\n",
              "[5 rows x 9 columns]"
            ]
          },
          "metadata": {
            "tags": []
          },
          "execution_count": 263
        }
      ]
    },
    {
      "cell_type": "code",
      "metadata": {
        "id": "KgLmc6TGBO2X",
        "colab_type": "code",
        "colab": {
          "base_uri": "https://localhost:8080/",
          "height": 296
        },
        "outputId": "01167a34-ea1e-4956-b7fd-9dc4e3bdef77"
      },
      "source": [
        "# будем брать все признаки, которые описаны выше, кроме переменной rain, \n",
        "# так как было достаточно мало дождливых дней, и в основном rain принимает значения 0\n",
        "# смотрим на гистограмму ниже\n",
        "# взятие признаков мотивировали выше, пока их преобразовывали\n",
        "# ещё стоит сказать, что очевидными кажутся с ковбойской точки зрения\n",
        "# переменные температуры, влажности и скорости ветра (ну тут обойдёмся без описания)\n",
        "# (ну, и как будет видно, придется избавиться от is_hottest_months, но пока\n",
        "# включим её)\n",
        "# ожидаем положительный коэф у temp (чем жарче, тем суше и т.д.)\n",
        "# ожидаем отрицательный коэф у rh (чем влажнее, тем меньше шанс возгорания чего-либо)\n",
        "# ожидаем положительный коэф у wind (влияет на скорость распространния ветра)\n",
        "# ожидаем положительный коэф у classes (попадаем в зоны, где чаще и больше горит)\n",
        "# ожидаем положительный коэф у is_holiday (больше человеческий фактор)\n",
        "# ожидаем положительный коэф у is_hottest_months (как и с температурой)\n",
        "# ожидаем отрицательный коэф у all_indexes (устроены по смыслу так, что чем они больше, тем больше влаги и т.д.)\n",
        "\n",
        "df['rain'].hist()\n",
        "plt.xlabel('Значения')\n",
        "plt.ylabel('Частота появлений')"
      ],
      "execution_count": 264,
      "outputs": [
        {
          "output_type": "execute_result",
          "data": {
            "text/plain": [
              "Text(0, 0.5, 'Частота появлений')"
            ]
          },
          "metadata": {
            "tags": []
          },
          "execution_count": 264
        },
        {
          "output_type": "display_data",
          "data": {
            "image/png": "[encoded data removed]",
            "text/plain": [
              "<Figure size 432x288 with 1 Axes>"
            ]
          },
          "metadata": {
            "tags": [],
            "needs_background": "light"
          }
        }
      ]
    },
    {
      "cell_type": "code",
      "metadata": {
        "id": "_3cOTRASC6RD",
        "colab_type": "code",
        "colab": {}
      },
      "source": [
        "df = df.drop('rain', axis = 1)"
      ],
      "execution_count": 265,
      "outputs": []
    },
    {
      "cell_type": "code",
      "metadata": {
        "id": "9lxLw73X0GD1",
        "colab_type": "code",
        "colab": {}
      },
      "source": [
        "### для каждого столбца сохраним список из [среднее, медиана, дисперсия, минимум, максимум]\n",
        "dict_of_statistics = {}\n",
        "for values in df.columns:\n",
        "  val_array = df[values].values\n",
        "  vmean = np.mean(val_array)\n",
        "  vmedian = np.median(val_array)\n",
        "  vvar = np.var(val_array)\n",
        "  vmax = np.max(val_array)\n",
        "  vmin = np.min(val_array)\n",
        "  dict_of_statistics[values] = [vmean, vmedian, vvar, vmax, vmin]"
      ],
      "execution_count": 266,
      "outputs": []
    },
    {
      "cell_type": "code",
      "metadata": {
        "id": "87KS5ZcvcDON",
        "colab_type": "code",
        "colab": {
          "base_uri": "https://localhost:8080/",
          "height": 286
        },
        "outputId": "a2e603d1-ee74-4b2b-c3a4-df2f57b98a9b"
      },
      "source": [
        "dict_of_statistics"
      ],
      "execution_count": 267,
      "outputs": [
        {
          "output_type": "execute_result",
          "data": {
            "text/plain": [
              "{'RH': [43.733333333333334, 41.0, 226.5659259259259, 96, 15],\n",
              " 'all_indexes': [4.5474735088646414e-14,\n",
              "  92.81879180117872,\n",
              "  54469.222418898695,\n",
              "  317.0871381563081,\n",
              "  -566.6093656373989],\n",
              " 'classes': [0.725925925925926, 1.0, 0.19895747599451305, 1, 0],\n",
              " 'is_holiday': [0.3296296296296296, 0.0, 0.2209739368998628, 1, 0],\n",
              " 'is_hottest_months': [0.7925925925925926, 1.0, 0.16438957475994517, 1, 0],\n",
              " 'log_area': [1.8448310869668947,\n",
              "  1.8515982373543647,\n",
              "  2.322217796601119,\n",
              "  6.9947033206327935,\n",
              "  -2.4079456086518722],\n",
              " 'temp': [19.31111111111111, 20.1, 38.0440987654321, 33.3, 2.2],\n",
              " 'wind': [4.112962962962963, 4.0, 3.538461591220851, 9.4, 0.4]}"
            ]
          },
          "metadata": {
            "tags": []
          },
          "execution_count": 267
        }
      ]
    },
    {
      "cell_type": "code",
      "metadata": {
        "id": "o2QrP5VndgDY",
        "colab_type": "code",
        "colab": {
          "base_uri": "https://localhost:8080/",
          "height": 733
        },
        "outputId": "bd436958-f7d8-4c17-fb97-e179c613a374"
      },
      "source": [
        "### построим гистограммы по всем столбцам:\n",
        "print('                                         Гистограммы')\n",
        "df.hist(figsize = (12, 12));"
      ],
      "execution_count": 268,
      "outputs": [
        {
          "output_type": "stream",
          "text": [
            "                                         Гистограммы\n"
          ],
          "name": "stdout"
        },
        {
          "output_type": "display_data",
          "data": {
            "image/png": "[encoded data removed]",
            "text/plain": [
              "<Figure size 864x864 with 9 Axes>"
            ]
          },
          "metadata": {
            "tags": [],
            "needs_background": "light"
          }
        }
      ]
    },
    {
      "cell_type": "code",
      "metadata": {
        "id": "XT6tq43kDpym",
        "colab_type": "code",
        "colab": {
          "base_uri": "https://localhost:8080/",
          "height": 738
        },
        "outputId": "e9c95dd3-2f6f-4fb1-a43e-2bd681877f3c"
      },
      "source": [
        "print('                           Усики для температуры, ветра и таргета')\n",
        "df.boxplot(figsize = (12, 12), column = ['temp', 'wind', 'log_area']);\n",
        "plt.ylabel('Значения')"
      ],
      "execution_count": 269,
      "outputs": [
        {
          "output_type": "stream",
          "text": [
            "                           Усики для температуры, ветра и таргета\n"
          ],
          "name": "stdout"
        },
        {
          "output_type": "execute_result",
          "data": {
            "text/plain": [
              "Text(0, 0.5, 'Значения')"
            ]
          },
          "metadata": {
            "tags": []
          },
          "execution_count": 269
        },
        {
          "output_type": "display_data",
          "data": {
            "image/png": "[encoded data removed]",
            "text/plain": [
              "<Figure size 864x864 with 1 Axes>"
            ]
          },
          "metadata": {
            "tags": [],
            "needs_background": "light"
          }
        }
      ]
    },
    {
      "cell_type": "code",
      "metadata": {
        "id": "4a2VPboSqaU2",
        "colab_type": "code",
        "colab": {
          "base_uri": "https://localhost:8080/",
          "height": 734
        },
        "outputId": "5f57d805-1c9f-49e2-da20-c662f8e532dd"
      },
      "source": [
        "print('                           Усики для дамми-переменных')\n",
        "df.boxplot(figsize = (12, 12), column = ['classes', 'is_holiday', 'is_hottest_months']);\n",
        "plt.ylabel('Значения')"
      ],
      "execution_count": 270,
      "outputs": [
        {
          "output_type": "stream",
          "text": [
            "                           Усики для дамми-переменных\n"
          ],
          "name": "stdout"
        },
        {
          "output_type": "execute_result",
          "data": {
            "text/plain": [
              "Text(0, 0.5, 'Значения')"
            ]
          },
          "metadata": {
            "tags": []
          },
          "execution_count": 270
        },
        {
          "output_type": "display_data",
          "data": {
            "image/png": "[encoded data removed]",
            "text/plain": [
              "<Figure size 864x864 with 1 Axes>"
            ]
          },
          "metadata": {
            "tags": [],
            "needs_background": "light"
          }
        }
      ]
    },
    {
      "cell_type": "code",
      "metadata": {
        "id": "4fbKkhp_qgkC",
        "colab_type": "code",
        "colab": {
          "base_uri": "https://localhost:8080/",
          "height": 734
        },
        "outputId": "38b4528f-8fd9-4bb4-ea52-3b239d728ef3"
      },
      "source": [
        "print('                           Усики для остального')\n",
        "df.boxplot(figsize = (12, 12), column = ['RH', 'all_indexes']);\n",
        "plt.ylabel('Значения')"
      ],
      "execution_count": 271,
      "outputs": [
        {
          "output_type": "stream",
          "text": [
            "                           Усики для остального\n"
          ],
          "name": "stdout"
        },
        {
          "output_type": "execute_result",
          "data": {
            "text/plain": [
              "Text(0, 0.5, 'Значения')"
            ]
          },
          "metadata": {
            "tags": []
          },
          "execution_count": 271
        },
        {
          "output_type": "display_data",
          "data": {
            "image/png": "[encoded data removed]",
            "text/plain": [
              "<Figure size 864x864 with 1 Axes>"
            ]
          },
          "metadata": {
            "tags": [],
            "needs_background": "light"
          }
        }
      ]
    },
    {
      "cell_type": "code",
      "metadata": {
        "id": "M-s8AA7qeWEx",
        "colab_type": "code",
        "colab": {
          "base_uri": "https://localhost:8080/",
          "height": 151
        },
        "outputId": "278fb48f-6f61-4b55-8d37-6bd7966e2c1c"
      },
      "source": [
        "# графики выше - норм, мы в принципе отобрали все хорошие признаки\n",
        "# Проверим с помощью VIF мультиколлинеарность\n",
        "from statsmodels.stats.outliers_influence import variance_inflation_factor\n",
        "from statsmodels.tools.tools import add_constant\n",
        "\n",
        "wow = df.drop('log_area', axis = 1)\n",
        "\n",
        "pd.Series([variance_inflation_factor(wow.values, i) \n",
        "               for i in range(wow.shape[1])], \n",
        "              index=wow.columns)"
      ],
      "execution_count": 272,
      "outputs": [
        {
          "output_type": "execute_result",
          "data": {
            "text/plain": [
              "temp                 12.831082\n",
              "RH                    8.610724\n",
              "wind                  5.394945\n",
              "classes               3.277419\n",
              "is_holiday            1.540730\n",
              "is_hottest_months    19.570451\n",
              "all_indexes           2.893444\n",
              "dtype: float64"
            ]
          },
          "metadata": {
            "tags": []
          },
          "execution_count": 272
        }
      ]
    },
    {
      "cell_type": "code",
      "metadata": {
        "id": "-QDUfIOk19eJ",
        "colab_type": "code",
        "colab": {
          "base_uri": "https://localhost:8080/",
          "height": 134
        },
        "outputId": "ee2c1dce-482c-466f-862b-8175b7f76c29"
      },
      "source": [
        "# неудивительно, что они создают проблему коллениарности, т.к. очевидно, что\n",
        "# температура кореллирует с месяцем\n",
        "# т.к. в температуре содержится больше информации, удалим столбец с месяцем\n",
        "# увидим, и вправду от проблемы избавились\n",
        "wow1 = df.drop(['log_area', 'is_hottest_months'], axis = 1)\n",
        "\n",
        "pd.Series([variance_inflation_factor(wow1.values, i) \n",
        "               for i in range(wow1.shape[1])], \n",
        "              index=wow1.columns)"
      ],
      "execution_count": 273,
      "outputs": [
        {
          "output_type": "execute_result",
          "data": {
            "text/plain": [
              "temp           5.358928\n",
              "RH             6.352697\n",
              "wind           5.385281\n",
              "classes        3.277414\n",
              "is_holiday     1.539969\n",
              "all_indexes    1.244481\n",
              "dtype: float64"
            ]
          },
          "metadata": {
            "tags": []
          },
          "execution_count": 273
        }
      ]
    },
    {
      "cell_type": "code",
      "metadata": {
        "id": "RAJ99ZW23iSz",
        "colab_type": "code",
        "colab": {
          "base_uri": "https://localhost:8080/",
          "height": 34
        },
        "outputId": "21b304c2-d39e-482f-83b2-3bd346bd2559"
      },
      "source": [
        "from statsmodels.regression.linear_model import OLS\n",
        "# Проверим ещё и с помощью СN мультиколлинеарность\n",
        "# Для этого построим регрессию и посмотрим на число обусловленности\n",
        "\n",
        "target = df['log_area']\n",
        "data = df.drop(['log_area'], axis=1)\n",
        "mnk = OLS(target, data)\n",
        "to_fit = mnk.fit()\n",
        "to_fit.condition_number"
      ],
      "execution_count": 274,
      "outputs": [
        {
          "output_type": "execute_result",
          "data": {
            "text/plain": [
              "1160.3671806571097"
            ]
          },
          "metadata": {
            "tags": []
          },
          "execution_count": 274
        }
      ]
    },
    {
      "cell_type": "code",
      "metadata": {
        "id": "MGQGStbX_Llb",
        "colab_type": "code",
        "colab": {
          "base_uri": "https://localhost:8080/",
          "height": 34
        },
        "outputId": "48d9a28c-fd80-4951-bf10-da8f35013908"
      },
      "source": [
        "target = df['log_area']\n",
        "data = df.drop(['log_area', 'is_hottest_months'], axis=1)\n",
        "mnk = OLS(target, data)\n",
        "to_fit = mnk.fit()\n",
        "to_fit.condition_number"
      ],
      "execution_count": 275,
      "outputs": [
        {
          "output_type": "execute_result",
          "data": {
            "text/plain": [
              "505.2493740076525"
            ]
          },
          "metadata": {
            "tags": []
          },
          "execution_count": 275
        }
      ]
    },
    {
      "cell_type": "code",
      "metadata": {
        "id": "f0oqsi3R4c78",
        "colab_type": "code",
        "colab": {
          "base_uri": "https://localhost:8080/",
          "height": 506
        },
        "outputId": "0344f147-1004-4a90-d43b-f9ed3d010b40"
      },
      "source": [
        "# Как видно выше, оно находится в разумных пределах, и проблема мультиколлинеарности\n",
        "# не возникает, если, как и в случае с VIF, выкинуть столбец с месяцем. \n",
        "# Посмотрим на описание результатов такой регрессии.\n",
        "to_fit.summary()"
      ],
      "execution_count": 276,
      "outputs": [
        {
          "output_type": "execute_result",
          "data": {
            "text/html": [
              "<table class=\"simpletable\">\n",
              "<caption>OLS Regression Results</caption>\n",
              "<tr>\n",
              "  <th>Dep. Variable:</th>        <td>log_area</td>     <th>  R-squared (uncentered):</th>      <td>   0.619</td>\n",
              "</tr>\n",
              "<tr>\n",
              "  <th>Model:</th>                   <td>OLS</td>       <th>  Adj. R-squared (uncentered):</th> <td>   0.610</td>\n",
              "</tr>\n",
              "<tr>\n",
              "  <th>Method:</th>             <td>Least Squares</td>  <th>  F-statistic:       </th>          <td>   71.44</td>\n",
              "</tr>\n",
              "<tr>\n",
              "  <th>Date:</th>             <td>Sat, 20 Jun 2020</td> <th>  Prob (F-statistic):</th>          <td>1.74e-52</td>\n",
              "</tr>\n",
              "<tr>\n",
              "  <th>Time:</th>                 <td>15:24:29</td>     <th>  Log-Likelihood:    </th>          <td> -488.46</td>\n",
              "</tr>\n",
              "<tr>\n",
              "  <th>No. Observations:</th>      <td>   270</td>      <th>  AIC:               </th>          <td>   988.9</td>\n",
              "</tr>\n",
              "<tr>\n",
              "  <th>Df Residuals:</th>          <td>   264</td>      <th>  BIC:               </th>          <td>   1011.</td>\n",
              "</tr>\n",
              "<tr>\n",
              "  <th>Df Model:</th>              <td>     6</td>      <th>                     </th>              <td> </td>   \n",
              "</tr>\n",
              "<tr>\n",
              "  <th>Covariance Type:</th>      <td>nonrobust</td>    <th>                     </th>              <td> </td>   \n",
              "</tr>\n",
              "</table>\n",
              "<table class=\"simpletable\">\n",
              "<tr>\n",
              "       <td></td>          <th>coef</th>     <th>std err</th>      <th>t</th>      <th>P>|t|</th>  <th>[0.025</th>    <th>0.975]</th>  \n",
              "</tr>\n",
              "<tr>\n",
              "  <th>temp</th>        <td>    0.0297</td> <td>    0.010</td> <td>    2.865</td> <td> 0.005</td> <td>    0.009</td> <td>    0.050</td>\n",
              "</tr>\n",
              "<tr>\n",
              "  <th>RH</th>          <td>    0.0014</td> <td>    0.005</td> <td>    0.290</td> <td> 0.772</td> <td>   -0.008</td> <td>    0.011</td>\n",
              "</tr>\n",
              "<tr>\n",
              "  <th>wind</th>        <td>    0.0931</td> <td>    0.047</td> <td>    1.995</td> <td> 0.047</td> <td>    0.001</td> <td>    0.185</td>\n",
              "</tr>\n",
              "<tr>\n",
              "  <th>classes</th>     <td>    0.9155</td> <td>    0.193</td> <td>    4.739</td> <td> 0.000</td> <td>    0.535</td> <td>    1.296</td>\n",
              "</tr>\n",
              "<tr>\n",
              "  <th>is_holiday</th>  <td>    0.4174</td> <td>    0.197</td> <td>    2.124</td> <td> 0.035</td> <td>    0.030</td> <td>    0.804</td>\n",
              "</tr>\n",
              "<tr>\n",
              "  <th>all_indexes</th> <td>   -0.0003</td> <td>    0.000</td> <td>   -0.704</td> <td> 0.482</td> <td>   -0.001</td> <td>    0.001</td>\n",
              "</tr>\n",
              "</table>\n",
              "<table class=\"simpletable\">\n",
              "<tr>\n",
              "  <th>Omnibus:</th>       <td> 0.422</td> <th>  Durbin-Watson:     </th> <td>   1.031</td>\n",
              "</tr>\n",
              "<tr>\n",
              "  <th>Prob(Omnibus):</th> <td> 0.810</td> <th>  Jarque-Bera (JB):  </th> <td>   0.256</td>\n",
              "</tr>\n",
              "<tr>\n",
              "  <th>Skew:</th>          <td> 0.064</td> <th>  Prob(JB):          </th> <td>   0.880</td>\n",
              "</tr>\n",
              "<tr>\n",
              "  <th>Kurtosis:</th>      <td> 3.080</td> <th>  Cond. No.          </th> <td>    505.</td>\n",
              "</tr>\n",
              "</table><br/><br/>Warnings:<br/>[1] Standard Errors assume that the covariance matrix of the errors is correctly specified."
            ],
            "text/plain": [
              "<class 'statsmodels.iolib.summary.Summary'>\n",
              "\"\"\"\n",
              "                                 OLS Regression Results                                \n",
              "=======================================================================================\n",
              "Dep. Variable:               log_area   R-squared (uncentered):                   0.619\n",
              "Model:                            OLS   Adj. R-squared (uncentered):              0.610\n",
              "Method:                 Least Squares   F-statistic:                              71.44\n",
              "Date:                Sat, 20 Jun 2020   Prob (F-statistic):                    1.74e-52\n",
              "Time:                        15:24:29   Log-Likelihood:                         -488.46\n",
              "No. Observations:                 270   AIC:                                      988.9\n",
              "Df Residuals:                     264   BIC:                                      1011.\n",
              "Df Model:                           6                                                  \n",
              "Covariance Type:            nonrobust                                                  \n",
              "===============================================================================\n",
              "                  coef    std err          t      P>|t|      [0.025      0.975]\n",
              "-------------------------------------------------------------------------------\n",
              "temp            0.0297      0.010      2.865      0.005       0.009       0.050\n",
              "RH              0.0014      0.005      0.290      0.772      -0.008       0.011\n",
              "wind            0.0931      0.047      1.995      0.047       0.001       0.185\n",
              "classes         0.9155      0.193      4.739      0.000       0.535       1.296\n",
              "is_holiday      0.4174      0.197      2.124      0.035       0.030       0.804\n",
              "all_indexes    -0.0003      0.000     -0.704      0.482      -0.001       0.001\n",
              "==============================================================================\n",
              "Omnibus:                        0.422   Durbin-Watson:                   1.031\n",
              "Prob(Omnibus):                  0.810   Jarque-Bera (JB):                0.256\n",
              "Skew:                           0.064   Prob(JB):                        0.880\n",
              "Kurtosis:                       3.080   Cond. No.                         505.\n",
              "==============================================================================\n",
              "\n",
              "Warnings:\n",
              "[1] Standard Errors assume that the covariance matrix of the errors is correctly specified.\n",
              "\"\"\""
            ]
          },
          "metadata": {
            "tags": []
          },
          "execution_count": 276
        }
      ]
    },
    {
      "cell_type": "code",
      "metadata": {
        "id": "ag6hmuqI40FX",
        "colab_type": "code",
        "colab": {
          "base_uri": "https://localhost:8080/",
          "height": 466
        },
        "outputId": "d936329d-cd4f-435a-83a7-0c1e51cf8a41"
      },
      "source": [
        "# знак не совпал с RH (скорее всего, логика как с rain - в основном, засушливые дни\n",
        "# в итоге незначимый) и с all_indexes (тут он прост не значим, если ещё каждый изначальный индекс\n",
        "# взять и посмотреть на его корреляцию с таргетом - там будет она оч низкая, так что\n",
        "# просто индекс оказался не очень :) )\n",
        "# Выбросим незначимые регрессоры RH и all_indexes для красоты и построим новую регрессию\n",
        "target = df['log_area']\n",
        "data = df.drop(['log_area', 'is_hottest_months', 'RH', 'all_indexes'], axis=1)\n",
        "mnk = OLS(target, data)\n",
        "to_fit = mnk.fit()\n",
        "to_fit.condition_number\n",
        "to_fit.summary()"
      ],
      "execution_count": 277,
      "outputs": [
        {
          "output_type": "execute_result",
          "data": {
            "text/html": [
              "<table class=\"simpletable\">\n",
              "<caption>OLS Regression Results</caption>\n",
              "<tr>\n",
              "  <th>Dep. Variable:</th>        <td>log_area</td>     <th>  R-squared (uncentered):</th>      <td>   0.618</td>\n",
              "</tr>\n",
              "<tr>\n",
              "  <th>Model:</th>                   <td>OLS</td>       <th>  Adj. R-squared (uncentered):</th> <td>   0.612</td>\n",
              "</tr>\n",
              "<tr>\n",
              "  <th>Method:</th>             <td>Least Squares</td>  <th>  F-statistic:       </th>          <td>   107.6</td>\n",
              "</tr>\n",
              "<tr>\n",
              "  <th>Date:</th>             <td>Sat, 20 Jun 2020</td> <th>  Prob (F-statistic):</th>          <td>2.16e-54</td>\n",
              "</tr>\n",
              "<tr>\n",
              "  <th>Time:</th>                 <td>15:24:29</td>     <th>  Log-Likelihood:    </th>          <td> -488.77</td>\n",
              "</tr>\n",
              "<tr>\n",
              "  <th>No. Observations:</th>      <td>   270</td>      <th>  AIC:               </th>          <td>   985.5</td>\n",
              "</tr>\n",
              "<tr>\n",
              "  <th>Df Residuals:</th>          <td>   266</td>      <th>  BIC:               </th>          <td>   999.9</td>\n",
              "</tr>\n",
              "<tr>\n",
              "  <th>Df Model:</th>              <td>     4</td>      <th>                     </th>              <td> </td>   \n",
              "</tr>\n",
              "<tr>\n",
              "  <th>Covariance Type:</th>      <td>nonrobust</td>    <th>                     </th>              <td> </td>   \n",
              "</tr>\n",
              "</table>\n",
              "<table class=\"simpletable\">\n",
              "<tr>\n",
              "       <td></td>         <th>coef</th>     <th>std err</th>      <th>t</th>      <th>P>|t|</th>  <th>[0.025</th>    <th>0.975]</th>  \n",
              "</tr>\n",
              "<tr>\n",
              "  <th>temp</th>       <td>    0.0277</td> <td>    0.009</td> <td>    3.101</td> <td> 0.002</td> <td>    0.010</td> <td>    0.045</td>\n",
              "</tr>\n",
              "<tr>\n",
              "  <th>wind</th>       <td>    0.1098</td> <td>    0.038</td> <td>    2.864</td> <td> 0.005</td> <td>    0.034</td> <td>    0.185</td>\n",
              "</tr>\n",
              "<tr>\n",
              "  <th>classes</th>    <td>    0.9439</td> <td>    0.183</td> <td>    5.146</td> <td> 0.000</td> <td>    0.583</td> <td>    1.305</td>\n",
              "</tr>\n",
              "<tr>\n",
              "  <th>is_holiday</th> <td>    0.4375</td> <td>    0.193</td> <td>    2.268</td> <td> 0.024</td> <td>    0.058</td> <td>    0.817</td>\n",
              "</tr>\n",
              "</table>\n",
              "<table class=\"simpletable\">\n",
              "<tr>\n",
              "  <th>Omnibus:</th>       <td> 0.235</td> <th>  Durbin-Watson:     </th> <td>   1.038</td>\n",
              "</tr>\n",
              "<tr>\n",
              "  <th>Prob(Omnibus):</th> <td> 0.889</td> <th>  Jarque-Bera (JB):  </th> <td>   0.100</td>\n",
              "</tr>\n",
              "<tr>\n",
              "  <th>Skew:</th>          <td> 0.036</td> <th>  Prob(JB):          </th> <td>   0.951</td>\n",
              "</tr>\n",
              "<tr>\n",
              "  <th>Kurtosis:</th>      <td> 3.062</td> <th>  Cond. No.          </th> <td>    44.3</td>\n",
              "</tr>\n",
              "</table><br/><br/>Warnings:<br/>[1] Standard Errors assume that the covariance matrix of the errors is correctly specified."
            ],
            "text/plain": [
              "<class 'statsmodels.iolib.summary.Summary'>\n",
              "\"\"\"\n",
              "                                 OLS Regression Results                                \n",
              "=======================================================================================\n",
              "Dep. Variable:               log_area   R-squared (uncentered):                   0.618\n",
              "Model:                            OLS   Adj. R-squared (uncentered):              0.612\n",
              "Method:                 Least Squares   F-statistic:                              107.6\n",
              "Date:                Sat, 20 Jun 2020   Prob (F-statistic):                    2.16e-54\n",
              "Time:                        15:24:29   Log-Likelihood:                         -488.77\n",
              "No. Observations:                 270   AIC:                                      985.5\n",
              "Df Residuals:                     266   BIC:                                      999.9\n",
              "Df Model:                           4                                                  \n",
              "Covariance Type:            nonrobust                                                  \n",
              "==============================================================================\n",
              "                 coef    std err          t      P>|t|      [0.025      0.975]\n",
              "------------------------------------------------------------------------------\n",
              "temp           0.0277      0.009      3.101      0.002       0.010       0.045\n",
              "wind           0.1098      0.038      2.864      0.005       0.034       0.185\n",
              "classes        0.9439      0.183      5.146      0.000       0.583       1.305\n",
              "is_holiday     0.4375      0.193      2.268      0.024       0.058       0.817\n",
              "==============================================================================\n",
              "Omnibus:                        0.235   Durbin-Watson:                   1.038\n",
              "Prob(Omnibus):                  0.889   Jarque-Bera (JB):                0.100\n",
              "Skew:                           0.036   Prob(JB):                        0.951\n",
              "Kurtosis:                       3.062   Cond. No.                         44.3\n",
              "==============================================================================\n",
              "\n",
              "Warnings:\n",
              "[1] Standard Errors assume that the covariance matrix of the errors is correctly specified.\n",
              "\"\"\""
            ]
          },
          "metadata": {
            "tags": []
          },
          "execution_count": 277
        }
      ]
    },
    {
      "cell_type": "code",
      "metadata": {
        "id": "Qk3alwZUW4Ix",
        "colab_type": "code",
        "colab": {}
      },
      "source": [
        "# Теперь всё крссиво, все коэфы значимы и модель тоже сама значима (prob f-st ~ 0)\n",
        "# Остатки нормальные (J-B сверху), но проигнорируем это \n",
        "# ради доп. балла и проделаем процедуру на бонус\n",
        "# 10000 раз выберем случайно 30 наблюдений, построим на них регрессию, получим\n",
        "# таким образом 1000 сэмплов для каждого коэффициента. Построим для каждого доверительные\n",
        "# интервалы на 5%\n",
        "spisok = np.zeros(1000*4).reshape(1000, 4)\n",
        "for j in range(1000):\n",
        "  df3 = df.sample(30)\n",
        "  target3 = df3['log_area']\n",
        "  data3 = df3.drop(['log_area', 'is_hottest_months', 'RH', 'all_indexes'], axis=1)\n",
        "  mnk3 = OLS(target3, data3)\n",
        "  to_fit3 = mnk3.fit()\n",
        "  to_fit3.condition_number\n",
        "  spisok[j] = list(to_fit3.params)"
      ],
      "execution_count": 278,
      "outputs": []
    },
    {
      "cell_type": "code",
      "metadata": {
        "id": "z4j1v-2eag1w",
        "colab_type": "code",
        "colab": {
          "base_uri": "https://localhost:8080/",
          "height": 84
        },
        "outputId": "52ee6e9b-9f8f-47b1-cb23-e4428b2e7f06"
      },
      "source": [
        "for i in range(4):\n",
        "  samples = spisok[:, i]\n",
        "  left_c = np.mean(samples) - 1.96 * np.std(samples)/(1000**(1/2)) \n",
        "  right_c = np.mean(samples) + 1.96 * np.std(samples)/(1000**(1/2))\n",
        "  print('Conf. inteval for '+data3.columns[i]+' is: [' + str(left_c) +'; ' + str(right_c) + ']')"
      ],
      "execution_count": 279,
      "outputs": [
        {
          "output_type": "stream",
          "text": [
            "Conf. inteval for temp is: [0.02671454694410365; 0.029706415985277197]\n",
            "Conf. inteval for wind is: [0.09894711026515304; 0.11318541934387111]\n",
            "Conf. inteval for classes is: [0.9087832698769129; 0.9746377872796459]\n",
            "Conf. inteval for is_holiday is: [0.41916340363015275; 0.4944328705026892]\n"
          ],
          "name": "stdout"
        }
      ]
    },
    {
      "cell_type": "code",
      "metadata": {
        "id": "5eq876kyzeIA",
        "colab_type": "code",
        "colab": {
          "base_uri": "https://localhost:8080/",
          "height": 67
        },
        "outputId": "42a0089c-8efe-4a85-c3d4-4d2dcbdd17a7"
      },
      "source": [
        "# выберем медианный объект, выведим для него точечный прогноз (predict на обученных коэфах)\n",
        "# теперь построим доверительные интервалы (инд. и средний прогноз)\n",
        "# имея в виду, что статистики распределены по стьюденту с (270 - 4) степенями свободы\n",
        "\n",
        "median_object = df.drop(columns = ['log_area', 'is_hottest_months', 'RH', 'all_indexes']).median().values\n",
        "pret = np.exp(to_fit.get_prediction(median_object).summary_frame().values)[0]\n",
        "print('Точечный: ' + str(pret[0]))\n",
        "print('Индивидуальный: ', (pret[-1], pret[-2]))\n",
        "print('Для среднего: ', (pret[2], pret[3]))\n"
      ],
      "execution_count": 280,
      "outputs": [
        {
          "output_type": "stream",
          "text": [
            "Точечный: 6.952833284402458\n",
            "Индивидуальный:  (132.07041527451372, 0.3660311855627477)\n",
            "Для среднего:  (5.422993995659587, 8.91424381428159)\n"
          ],
          "name": "stdout"
        }
      ]
    },
    {
      "cell_type": "code",
      "metadata": {
        "id": "pbGrgXEdeegs",
        "colab_type": "code",
        "colab": {
          "base_uri": "https://localhost:8080/",
          "height": 442
        },
        "outputId": "f9bb9f4f-cea4-4bec-fe37-f6ee246f436b"
      },
      "source": [
        "errors = (target - to_fit.predict())**2\n",
        "errors\n",
        "print('                                           Квадраты ошибок в зависимости от значений переменных-признаков')\n",
        "fig = plt.figure(figsize = (22, 7))\n",
        "\n",
        "plt.subplot(2, 2, 1)\n",
        "plt.scatter(df['temp'], errors)\n",
        "plt.xlabel('temp_значения')\n",
        "plt.ylabel('err^2')\n",
        "plt.subplots_adjust(wspace = 0.5, hspace = 0.5)\n",
        "\n",
        "plt.subplot(2, 2, 2)\n",
        "plt.scatter(df['wind'], errors, c = 'r')\n",
        "plt.xlabel('wind_значения')\n",
        "plt.ylabel('err^2')\n",
        "\n",
        "plt.subplot(2, 2, 3)\n",
        "plt.scatter(df['classes'], errors, c ='g')\n",
        "plt.xlabel('classes_значения')\n",
        "plt.ylabel('err^2')\n",
        "\n",
        "plt.subplot(2, 2, 4)\n",
        "plt.scatter(df['is_holiday'], errors, c='b')\n",
        "plt.xlabel('is_holiday_значения')\n",
        "plt.ylabel('err^2')\n",
        "\n",
        "\n",
        "plt.show()"
      ],
      "execution_count": 281,
      "outputs": [
        {
          "output_type": "stream",
          "text": [
            "                                           Квадраты ошибок в зависимости от значений переменных-признаков\n"
          ],
          "name": "stdout"
        },
        {
          "output_type": "display_data",
          "data": {
            "image/png": "[encoded data removed]",
            "text/plain": [
              "<Figure size 1584x504 with 4 Axes>"
            ]
          },
          "metadata": {
            "tags": [],
            "needs_background": "light"
          }
        }
      ]
    },
    {
      "cell_type": "code",
      "metadata": {
        "id": "XzGzw8qZm1jm",
        "colab_type": "code",
        "colab": {
          "base_uri": "https://localhost:8080/",
          "height": 84
        },
        "outputId": "fbf6bfb8-131f-43c2-cfaf-34048b91f0e1"
      },
      "source": [
        "# Графическое предположение: у всех переменных, кроме is_holiday, наблюдается\n",
        "# гетероскедастичность (не оч. большая, поэтому вряд ли это что-то значимое,\n",
        "# проверим потом черед Г-К)\n",
        "# у temp и wind - параболовидная ветвями вниз (+-), у classes - большой разброс\n",
        "# для значения 1 и намного меньше для 0. Проведём тест Г-К:\n",
        "from statsmodels.stats.diagnostic import het_goldfeldquandt\n",
        "for column in data.columns:\n",
        "  test = het_goldfeldquandt(errors, data[column].values.reshape(-1, 1))\n",
        "  print('Для колонки '+column+': F-статистика - ' + str(test[0]) + ', p-values - ' + str(test[1]))"
      ],
      "execution_count": 282,
      "outputs": [
        {
          "output_type": "stream",
          "text": [
            "Для колонки temp: F-статистика - 0.7032113285989812, p-values - 0.9787661399055647\n",
            "Для колонки wind: F-статистика - 0.6239147781513864, p-values - 0.996664695028014\n",
            "Для колонки classes: F-статистика - 0.5985908326286129, p-values - 0.9984043871510571\n",
            "Для колонки is_holiday: F-статистика - 0.6434663526294411, p-values - 0.9944075610586651\n"
          ],
          "name": "stdout"
        }
      ]
    },
    {
      "cell_type": "code",
      "metadata": {
        "id": "W0n7FXQuv1zk",
        "colab_type": "code",
        "colab": {}
      },
      "source": [
        "# Гипотеза о равенстве дисперсий не отвергается, поэтому тест Г-К не выявляет гетероскедастичность\n",
        "# Результаты могут по двум причинам не совпадать: либо мы просто имели дело на графике с\n",
        "# выбросами, на которые можно забить, либо дело в том, что из-за параболовидной формы\n",
        "# при делении выборки на 2 части не учитывается эта <<серединка>>"
      ],
      "execution_count": 283,
      "outputs": []
    },
    {
      "cell_type": "code",
      "metadata": {
        "id": "ckDz-74S3cl6",
        "colab_type": "code",
        "colab": {
          "base_uri": "https://localhost:8080/",
          "height": 466
        },
        "outputId": "74037e54-9e4a-49b4-f73e-1646c75a7959"
      },
      "source": [
        "# Для взвешенного МНК используем HC0:\n",
        "# результаты  не сильно поменялись, что и логично, так как\n",
        "# тесты на гетероскедастичность показали хороший результат\n",
        "# тем не менее, std у коэфов поменялся немножко, что и следовало ожидать\n",
        "# p.s. кстати, коэфы стали менее значимыми (кроме последнего), но это, опять-таки\n",
        "# не значительные изменения\n",
        "# аналогичные выводы ниже для HC3 (там изменения поменьше)\n",
        "\n",
        "wnk = OLS(target, data)\n",
        "to_fit_hc0 = wnk.fit()\n",
        "to_fit_hc0.get_robustcov_results(cov_type = \"HC0\").summary()"
      ],
      "execution_count": 284,
      "outputs": [
        {
          "output_type": "execute_result",
          "data": {
            "text/html": [
              "<table class=\"simpletable\">\n",
              "<caption>OLS Regression Results</caption>\n",
              "<tr>\n",
              "  <th>Dep. Variable:</th>        <td>log_area</td>     <th>  R-squared (uncentered):</th>      <td>   0.618</td>\n",
              "</tr>\n",
              "<tr>\n",
              "  <th>Model:</th>                   <td>OLS</td>       <th>  Adj. R-squared (uncentered):</th> <td>   0.612</td>\n",
              "</tr>\n",
              "<tr>\n",
              "  <th>Method:</th>             <td>Least Squares</td>  <th>  F-statistic:       </th>          <td>   97.41</td>\n",
              "</tr>\n",
              "<tr>\n",
              "  <th>Date:</th>             <td>Sat, 20 Jun 2020</td> <th>  Prob (F-statistic):</th>          <td>6.27e-51</td>\n",
              "</tr>\n",
              "<tr>\n",
              "  <th>Time:</th>                 <td>15:24:32</td>     <th>  Log-Likelihood:    </th>          <td> -488.77</td>\n",
              "</tr>\n",
              "<tr>\n",
              "  <th>No. Observations:</th>      <td>   270</td>      <th>  AIC:               </th>          <td>   985.5</td>\n",
              "</tr>\n",
              "<tr>\n",
              "  <th>Df Residuals:</th>          <td>   266</td>      <th>  BIC:               </th>          <td>   999.9</td>\n",
              "</tr>\n",
              "<tr>\n",
              "  <th>Df Model:</th>              <td>     4</td>      <th>                     </th>              <td> </td>   \n",
              "</tr>\n",
              "<tr>\n",
              "  <th>Covariance Type:</th>         <td>HC0</td>       <th>                     </th>              <td> </td>   \n",
              "</tr>\n",
              "</table>\n",
              "<table class=\"simpletable\">\n",
              "<tr>\n",
              "       <td></td>         <th>coef</th>     <th>std err</th>      <th>t</th>      <th>P>|t|</th>  <th>[0.025</th>    <th>0.975]</th>  \n",
              "</tr>\n",
              "<tr>\n",
              "  <th>temp</th>       <td>    0.0277</td> <td>    0.007</td> <td>    3.707</td> <td> 0.000</td> <td>    0.013</td> <td>    0.042</td>\n",
              "</tr>\n",
              "<tr>\n",
              "  <th>wind</th>       <td>    0.1098</td> <td>    0.034</td> <td>    3.237</td> <td> 0.001</td> <td>    0.043</td> <td>    0.177</td>\n",
              "</tr>\n",
              "<tr>\n",
              "  <th>classes</th>    <td>    0.9439</td> <td>    0.165</td> <td>    5.725</td> <td> 0.000</td> <td>    0.619</td> <td>    1.268</td>\n",
              "</tr>\n",
              "<tr>\n",
              "  <th>is_holiday</th> <td>    0.4375</td> <td>    0.198</td> <td>    2.207</td> <td> 0.028</td> <td>    0.047</td> <td>    0.828</td>\n",
              "</tr>\n",
              "</table>\n",
              "<table class=\"simpletable\">\n",
              "<tr>\n",
              "  <th>Omnibus:</th>       <td> 0.235</td> <th>  Durbin-Watson:     </th> <td>   1.038</td>\n",
              "</tr>\n",
              "<tr>\n",
              "  <th>Prob(Omnibus):</th> <td> 0.889</td> <th>  Jarque-Bera (JB):  </th> <td>   0.100</td>\n",
              "</tr>\n",
              "<tr>\n",
              "  <th>Skew:</th>          <td> 0.036</td> <th>  Prob(JB):          </th> <td>   0.951</td>\n",
              "</tr>\n",
              "<tr>\n",
              "  <th>Kurtosis:</th>      <td> 3.062</td> <th>  Cond. No.          </th> <td>    44.3</td>\n",
              "</tr>\n",
              "</table><br/><br/>Warnings:<br/>[1] Standard Errors are heteroscedasticity robust (HC0)"
            ],
            "text/plain": [
              "<class 'statsmodels.iolib.summary.Summary'>\n",
              "\"\"\"\n",
              "                                 OLS Regression Results                                \n",
              "=======================================================================================\n",
              "Dep. Variable:               log_area   R-squared (uncentered):                   0.618\n",
              "Model:                            OLS   Adj. R-squared (uncentered):              0.612\n",
              "Method:                 Least Squares   F-statistic:                              97.41\n",
              "Date:                Sat, 20 Jun 2020   Prob (F-statistic):                    6.27e-51\n",
              "Time:                        15:24:32   Log-Likelihood:                         -488.77\n",
              "No. Observations:                 270   AIC:                                      985.5\n",
              "Df Residuals:                     266   BIC:                                      999.9\n",
              "Df Model:                           4                                                  \n",
              "Covariance Type:                  HC0                                                  \n",
              "==============================================================================\n",
              "                 coef    std err          t      P>|t|      [0.025      0.975]\n",
              "------------------------------------------------------------------------------\n",
              "temp           0.0277      0.007      3.707      0.000       0.013       0.042\n",
              "wind           0.1098      0.034      3.237      0.001       0.043       0.177\n",
              "classes        0.9439      0.165      5.725      0.000       0.619       1.268\n",
              "is_holiday     0.4375      0.198      2.207      0.028       0.047       0.828\n",
              "==============================================================================\n",
              "Omnibus:                        0.235   Durbin-Watson:                   1.038\n",
              "Prob(Omnibus):                  0.889   Jarque-Bera (JB):                0.100\n",
              "Skew:                           0.036   Prob(JB):                        0.951\n",
              "Kurtosis:                       3.062   Cond. No.                         44.3\n",
              "==============================================================================\n",
              "\n",
              "Warnings:\n",
              "[1] Standard Errors are heteroscedasticity robust (HC0)\n",
              "\"\"\""
            ]
          },
          "metadata": {
            "tags": []
          },
          "execution_count": 284
        }
      ]
    },
    {
      "cell_type": "code",
      "metadata": {
        "id": "_oOnX05d35Tl",
        "colab_type": "code",
        "colab": {
          "base_uri": "https://localhost:8080/",
          "height": 466
        },
        "outputId": "36b65a46-5592-4ff4-b907-887a3a17ede1"
      },
      "source": [
        "# Для взвешенного МНК используем HC3:\n",
        "wnk = OLS(target, data)\n",
        "to_fit_hc3 = wnk.fit()\n",
        "to_fit_hc3.get_robustcov_results(cov_type = \"HC3\").summary()"
      ],
      "execution_count": 285,
      "outputs": [
        {
          "output_type": "execute_result",
          "data": {
            "text/html": [
              "<table class=\"simpletable\">\n",
              "<caption>OLS Regression Results</caption>\n",
              "<tr>\n",
              "  <th>Dep. Variable:</th>        <td>log_area</td>     <th>  R-squared (uncentered):</th>      <td>   0.618</td>\n",
              "</tr>\n",
              "<tr>\n",
              "  <th>Model:</th>                   <td>OLS</td>       <th>  Adj. R-squared (uncentered):</th> <td>   0.612</td>\n",
              "</tr>\n",
              "<tr>\n",
              "  <th>Method:</th>             <td>Least Squares</td>  <th>  F-statistic:       </th>          <td>   94.58</td>\n",
              "</tr>\n",
              "<tr>\n",
              "  <th>Date:</th>             <td>Sat, 20 Jun 2020</td> <th>  Prob (F-statistic):</th>          <td>6.29e-50</td>\n",
              "</tr>\n",
              "<tr>\n",
              "  <th>Time:</th>                 <td>15:24:32</td>     <th>  Log-Likelihood:    </th>          <td> -488.77</td>\n",
              "</tr>\n",
              "<tr>\n",
              "  <th>No. Observations:</th>      <td>   270</td>      <th>  AIC:               </th>          <td>   985.5</td>\n",
              "</tr>\n",
              "<tr>\n",
              "  <th>Df Residuals:</th>          <td>   266</td>      <th>  BIC:               </th>          <td>   999.9</td>\n",
              "</tr>\n",
              "<tr>\n",
              "  <th>Df Model:</th>              <td>     4</td>      <th>                     </th>              <td> </td>   \n",
              "</tr>\n",
              "<tr>\n",
              "  <th>Covariance Type:</th>         <td>HC3</td>       <th>                     </th>              <td> </td>   \n",
              "</tr>\n",
              "</table>\n",
              "<table class=\"simpletable\">\n",
              "<tr>\n",
              "       <td></td>         <th>coef</th>     <th>std err</th>      <th>t</th>      <th>P>|t|</th>  <th>[0.025</th>    <th>0.975]</th>  \n",
              "</tr>\n",
              "<tr>\n",
              "  <th>temp</th>       <td>    0.0277</td> <td>    0.008</td> <td>    3.638</td> <td> 0.000</td> <td>    0.013</td> <td>    0.043</td>\n",
              "</tr>\n",
              "<tr>\n",
              "  <th>wind</th>       <td>    0.1098</td> <td>    0.035</td> <td>    3.165</td> <td> 0.002</td> <td>    0.041</td> <td>    0.178</td>\n",
              "</tr>\n",
              "<tr>\n",
              "  <th>classes</th>    <td>    0.9439</td> <td>    0.168</td> <td>    5.624</td> <td> 0.000</td> <td>    0.613</td> <td>    1.274</td>\n",
              "</tr>\n",
              "<tr>\n",
              "  <th>is_holiday</th> <td>    0.4375</td> <td>    0.201</td> <td>    2.173</td> <td> 0.031</td> <td>    0.041</td> <td>    0.834</td>\n",
              "</tr>\n",
              "</table>\n",
              "<table class=\"simpletable\">\n",
              "<tr>\n",
              "  <th>Omnibus:</th>       <td> 0.235</td> <th>  Durbin-Watson:     </th> <td>   1.038</td>\n",
              "</tr>\n",
              "<tr>\n",
              "  <th>Prob(Omnibus):</th> <td> 0.889</td> <th>  Jarque-Bera (JB):  </th> <td>   0.100</td>\n",
              "</tr>\n",
              "<tr>\n",
              "  <th>Skew:</th>          <td> 0.036</td> <th>  Prob(JB):          </th> <td>   0.951</td>\n",
              "</tr>\n",
              "<tr>\n",
              "  <th>Kurtosis:</th>      <td> 3.062</td> <th>  Cond. No.          </th> <td>    44.3</td>\n",
              "</tr>\n",
              "</table><br/><br/>Warnings:<br/>[1] Standard Errors are heteroscedasticity robust (HC3)"
            ],
            "text/plain": [
              "<class 'statsmodels.iolib.summary.Summary'>\n",
              "\"\"\"\n",
              "                                 OLS Regression Results                                \n",
              "=======================================================================================\n",
              "Dep. Variable:               log_area   R-squared (uncentered):                   0.618\n",
              "Model:                            OLS   Adj. R-squared (uncentered):              0.612\n",
              "Method:                 Least Squares   F-statistic:                              94.58\n",
              "Date:                Sat, 20 Jun 2020   Prob (F-statistic):                    6.29e-50\n",
              "Time:                        15:24:32   Log-Likelihood:                         -488.77\n",
              "No. Observations:                 270   AIC:                                      985.5\n",
              "Df Residuals:                     266   BIC:                                      999.9\n",
              "Df Model:                           4                                                  \n",
              "Covariance Type:                  HC3                                                  \n",
              "==============================================================================\n",
              "                 coef    std err          t      P>|t|      [0.025      0.975]\n",
              "------------------------------------------------------------------------------\n",
              "temp           0.0277      0.008      3.638      0.000       0.013       0.043\n",
              "wind           0.1098      0.035      3.165      0.002       0.041       0.178\n",
              "classes        0.9439      0.168      5.624      0.000       0.613       1.274\n",
              "is_holiday     0.4375      0.201      2.173      0.031       0.041       0.834\n",
              "==============================================================================\n",
              "Omnibus:                        0.235   Durbin-Watson:                   1.038\n",
              "Prob(Omnibus):                  0.889   Jarque-Bera (JB):                0.100\n",
              "Skew:                           0.036   Prob(JB):                        0.951\n",
              "Kurtosis:                       3.062   Cond. No.                         44.3\n",
              "==============================================================================\n",
              "\n",
              "Warnings:\n",
              "[1] Standard Errors are heteroscedasticity robust (HC3)\n",
              "\"\"\""
            ]
          },
          "metadata": {
            "tags": []
          },
          "execution_count": 285
        }
      ]
    },
    {
      "cell_type": "code",
      "metadata": {
        "id": "buX2uQ8s5SzH",
        "colab_type": "code",
        "colab": {
          "base_uri": "https://localhost:8080/",
          "height": 442
        },
        "outputId": "e81ce16b-26ee-4ccf-cef1-ce24a1ff3b7c"
      },
      "source": [
        "# попробуем уменьшить пространство (ожидания: будет фигня, так как)\n",
        "# мы уже делали pca и уже у нас достаточно суженное признаковое пространство\n",
        "# половина переменных - дамми\n",
        "# ниже видно долю объяснённой дисперсии каждой компонентой\n",
        "# Коэффициенты супер-незначимые, модель отстой\n",
        "\n",
        "pca_final = IncrementalPCA(n_components=2)\n",
        "to_fit_pca = pca_final.fit_transform(data)\n",
        "print(pca_final.explained_variance_ratio_)\n",
        "pca_ols = OLS(target, to_fit_pca)\n",
        "model_pca_ols  = pca_ols.fit()\n",
        "model_pca_ols.summary()"
      ],
      "execution_count": 286,
      "outputs": [
        {
          "output_type": "stream",
          "text": [
            "[0.91539336 0.07481913]\n"
          ],
          "name": "stdout"
        },
        {
          "output_type": "execute_result",
          "data": {
            "text/html": [
              "<table class=\"simpletable\">\n",
              "<caption>OLS Regression Results</caption>\n",
              "<tr>\n",
              "  <th>Dep. Variable:</th>        <td>log_area</td>     <th>  R-squared (uncentered):</th>      <td>   0.001</td>\n",
              "</tr>\n",
              "<tr>\n",
              "  <th>Model:</th>                   <td>OLS</td>       <th>  Adj. R-squared (uncentered):</th> <td>  -0.006</td>\n",
              "</tr>\n",
              "<tr>\n",
              "  <th>Method:</th>             <td>Least Squares</td>  <th>  F-statistic:       </th>          <td>  0.1764</td>\n",
              "</tr>\n",
              "<tr>\n",
              "  <th>Date:</th>             <td>Sat, 20 Jun 2020</td> <th>  Prob (F-statistic):</th>           <td> 0.838</td> \n",
              "</tr>\n",
              "<tr>\n",
              "  <th>Time:</th>                 <td>15:24:32</td>     <th>  Log-Likelihood:    </th>          <td> -618.50</td>\n",
              "</tr>\n",
              "<tr>\n",
              "  <th>No. Observations:</th>      <td>   270</td>      <th>  AIC:               </th>          <td>   1241.</td>\n",
              "</tr>\n",
              "<tr>\n",
              "  <th>Df Residuals:</th>          <td>   268</td>      <th>  BIC:               </th>          <td>   1248.</td>\n",
              "</tr>\n",
              "<tr>\n",
              "  <th>Df Model:</th>              <td>     2</td>      <th>                     </th>              <td> </td>   \n",
              "</tr>\n",
              "<tr>\n",
              "  <th>Covariance Type:</th>      <td>nonrobust</td>    <th>                     </th>              <td> </td>   \n",
              "</tr>\n",
              "</table>\n",
              "<table class=\"simpletable\">\n",
              "<tr>\n",
              "   <td></td>     <th>coef</th>     <th>std err</th>      <th>t</th>      <th>P>|t|</th>  <th>[0.025</th>    <th>0.975]</th>  \n",
              "</tr>\n",
              "<tr>\n",
              "  <th>x1</th> <td>   -0.0089</td> <td>    0.024</td> <td>   -0.376</td> <td> 0.707</td> <td>   -0.055</td> <td>    0.038</td>\n",
              "</tr>\n",
              "<tr>\n",
              "  <th>x2</th> <td>    0.0379</td> <td>    0.082</td> <td>    0.460</td> <td> 0.646</td> <td>   -0.124</td> <td>    0.200</td>\n",
              "</tr>\n",
              "</table>\n",
              "<table class=\"simpletable\">\n",
              "<tr>\n",
              "  <th>Omnibus:</th>       <td> 6.138</td> <th>  Durbin-Watson:     </th> <td>   0.377</td>\n",
              "</tr>\n",
              "<tr>\n",
              "  <th>Prob(Omnibus):</th> <td> 0.046</td> <th>  Jarque-Bera (JB):  </th> <td>   5.870</td>\n",
              "</tr>\n",
              "<tr>\n",
              "  <th>Skew:</th>          <td> 0.323</td> <th>  Prob(JB):          </th> <td>  0.0531</td>\n",
              "</tr>\n",
              "<tr>\n",
              "  <th>Kurtosis:</th>      <td> 3.322</td> <th>  Cond. No.          </th> <td>    3.50</td>\n",
              "</tr>\n",
              "</table><br/><br/>Warnings:<br/>[1] Standard Errors assume that the covariance matrix of the errors is correctly specified."
            ],
            "text/plain": [
              "<class 'statsmodels.iolib.summary.Summary'>\n",
              "\"\"\"\n",
              "                                 OLS Regression Results                                \n",
              "=======================================================================================\n",
              "Dep. Variable:               log_area   R-squared (uncentered):                   0.001\n",
              "Model:                            OLS   Adj. R-squared (uncentered):             -0.006\n",
              "Method:                 Least Squares   F-statistic:                             0.1764\n",
              "Date:                Sat, 20 Jun 2020   Prob (F-statistic):                       0.838\n",
              "Time:                        15:24:32   Log-Likelihood:                         -618.50\n",
              "No. Observations:                 270   AIC:                                      1241.\n",
              "Df Residuals:                     268   BIC:                                      1248.\n",
              "Df Model:                           2                                                  \n",
              "Covariance Type:            nonrobust                                                  \n",
              "==============================================================================\n",
              "                 coef    std err          t      P>|t|      [0.025      0.975]\n",
              "------------------------------------------------------------------------------\n",
              "x1            -0.0089      0.024     -0.376      0.707      -0.055       0.038\n",
              "x2             0.0379      0.082      0.460      0.646      -0.124       0.200\n",
              "==============================================================================\n",
              "Omnibus:                        6.138   Durbin-Watson:                   0.377\n",
              "Prob(Omnibus):                  0.046   Jarque-Bera (JB):                5.870\n",
              "Skew:                           0.323   Prob(JB):                       0.0531\n",
              "Kurtosis:                       3.322   Cond. No.                         3.50\n",
              "==============================================================================\n",
              "\n",
              "Warnings:\n",
              "[1] Standard Errors assume that the covariance matrix of the errors is correctly specified.\n",
              "\"\"\""
            ]
          },
          "metadata": {
            "tags": []
          },
          "execution_count": 286
        }
      ]
    },
    {
      "cell_type": "code",
      "metadata": {
        "id": "VpTxVeviAU54",
        "colab_type": "code",
        "colab": {
          "base_uri": "https://localhost:8080/",
          "height": 50
        },
        "outputId": "1d692209-63a2-4abe-ce4d-1c283c340563"
      },
      "source": [
        "# метод максимального правдоподобия даёт результат как МНК аналитически\n",
        "# видим, что и вправду всё чики-бамбони совпадает\n",
        "from numpy.linalg import inv, det\n",
        "X = data\n",
        "Xt = data.T\n",
        "betas = (inv((Xt.dot(X))).dot(Xt)).dot(target)\n",
        "betas, np.array(to_fit.params)"
      ],
      "execution_count": 287,
      "outputs": [
        {
          "output_type": "execute_result",
          "data": {
            "text/plain": [
              "(array([0.0276696 , 0.1097808 , 0.94386713, 0.43752798]),\n",
              " array([0.0276696 , 0.1097808 , 0.94386713, 0.43752798]))"
            ]
          },
          "metadata": {
            "tags": []
          },
          "execution_count": 287
        }
      ]
    },
    {
      "cell_type": "code",
      "metadata": {
        "id": "KKMzLqoJHPCy",
        "colab_type": "code",
        "colab": {}
      },
      "source": [
        "data_f = data.values\n",
        "target_f = target.values.reshape(-1, 1)\n",
        "# теперь задача с градиентом\n",
        "# запишем в начале функцию логарифма правдоподобия для пары (x, y)\n",
        "# со знаком минус (чтобы минимизировать)\n",
        "# если положить сигму равную 1, то получим функционал как в МНК\n",
        "def like_log(X, Y, B):\n",
        "  return(((Y-X.dot(B)).T).dot(Y-X.dot(B)))[0][0]\n",
        "# инициализируем веса единицами \n",
        "# на каждом шаге по к каждому весу будем поочередно прибавлять дельта, смотреть \n",
        "# на изменение like_log и делить на дельту (~ вычисление частных производных)\n",
        "# так, будет найден приближенный градиент. А дальше обычный спуск\n",
        "def count_dif(X, Y, B, delta):\n",
        "  pr = np.zeros(4).reshape(-1, 1)\n",
        "  for j in range(B.shape[0]):\n",
        "    B_new = B.copy()\n",
        "    B_new[j][0] = B[j][0] + delta\n",
        "    pr[j] = (like_log(X, Y, B_new) - like_log(X, Y, B))/delta\n",
        "  return(pr)\n",
        "\n",
        "learning_rate = 0.0000005\n",
        "delta = 0.0001\n",
        "not_converged = True\n",
        "B = np.ones(4).reshape(-1, 1)\n",
        "\n",
        "while not_converged:\n",
        "  B -= learning_rate * count_dif(data_f, target_f, B, delta = delta)\n",
        "  if np.sum((learning_rate * count_dif(data_f, target_f, B, delta = delta))**2)**(1/2) < 0.000001:\n",
        "    break"
      ],
      "execution_count": 288,
      "outputs": []
    },
    {
      "cell_type": "code",
      "metadata": {
        "id": "1eIrqMWHG_oJ",
        "colab_type": "code",
        "colab": {
          "base_uri": "https://localhost:8080/",
          "height": 50
        },
        "outputId": "60bc86eb-e766-4649-bee1-c25d0030b112"
      },
      "source": [
        "# как видно выше, веса с помощью такой апроксимации сходятся почти что с точностью\n",
        "# до сотых-тысячных, результаты оч похожи, всё круто!\n",
        "B.reshape(1, -1), np.array(to_fit.params)"
      ],
      "execution_count": 289,
      "outputs": [
        {
          "output_type": "execute_result",
          "data": {
            "text/plain": [
              "(array([[0.0273479 , 0.10993731, 0.94258724, 0.45529613]]),\n",
              " array([0.0276696 , 0.1097808 , 0.94386713, 0.43752798]))"
            ]
          },
          "metadata": {
            "tags": []
          },
          "execution_count": 289
        }
      ]
    },
    {
      "cell_type": "code",
      "metadata": {
        "id": "q_lHaTYFJQF_",
        "colab_type": "code",
        "colab": {}
      },
      "source": [
        ""
      ],
      "execution_count": 289,
      "outputs": []
    }
  ]
}